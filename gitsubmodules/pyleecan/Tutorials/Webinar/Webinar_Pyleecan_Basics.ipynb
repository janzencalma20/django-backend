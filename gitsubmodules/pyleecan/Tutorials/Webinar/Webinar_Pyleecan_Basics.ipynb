{
 "cells": [
  {
   "cell_type": "markdown",
   "metadata": {},
   "source": [
    "# Webinar n°1: Pyleecan Basics\n",
    "\n",
    "This notebook is the support of the first out of three webinars organized by the association [Green Forge Coop](https://www.linkedin.com/company/greenforgecoop/about/). \n",
    "\n",
    "The webinars schedule was:\n",
    "\n",
    "Speakers: \n",
    "\n",
    "This webinar was recorded and the video is available on [pyleecan.org](https://pyleecan.org/webinar_1.html)\n",
    "\n",
    "# Installation guidelines\n",
    "To use this notebook please:\n",
    "- Install Anaconda\n",
    "- In Anaconda Prompt run the command \"pip install pyleecan\"\n",
    "- Install the latest version of [femm](http://www.femm.info/wiki/Download) (windows only)\n",
    "- In Anaconda Navigator, lanch Jupyter Notebook\n",
    "- Jupyter Notebook should open a tab in your web brower, select this notebook to open it\n",
    "\n",
    "To check if everything is correctly set, please run the following cell.\n",
    "\n",
    "**WARNING**: this file is an archive, the webinar used pyleecan X.Y.Z and SciDataTool X.Y.Z"
   ]
  },
  {
   "cell_type": "code",
   "execution_count": null,
   "metadata": {},
   "outputs": [],
   "source": [
    "%matplotlib notebook\n",
    "from datetime import date\n",
    "print(\"Running date:\", date.today().strftime(\"%B %d, %Y\"))\n",
    "import pyleecan\n",
    "print(\"Pyleecan version:\" + pyleecan.__version__)\n",
    "import SciDataTool\n",
    "print(\"SciDataTool version:\" + SciDataTool.__version__)\n",
    "\n",
    "# Load the machine\n",
    "from os.path import join\n",
    "from pyleecan.Functions.load import load\n",
    "from pyleecan.definitions import DATA_DIR\n",
    "\n",
    "Toyota_Prius = load(join(DATA_DIR, \"Machine\", \"Toyota_Prius.json\"))\n",
    "Toyota_Prius.plot()\n",
    "\n",
    "# Check FEMM installation\n",
    "from pyleecan.Classes._FEMMHandler import _FEMMHandler\n",
    "\n",
    "femm = _FEMMHandler()\n",
    "femm.openfemm(0)\n",
    "femm.closefemm()"
   ]
  },
  {
   "cell_type": "markdown",
   "metadata": {},
   "source": [
    "\n",
    "# 1) How to define a machine\n",
    "\n",
    "The first step to use pyleecan is to define a machine. This webinar presents the definition of the **Toyota Prius 2004** interior magnet with distributed winding \\[1\\].\n",
    "\n",
    "## Type of machines Pyleecan can model\n",
    "Pyleecan handles the geometrical modelling of main 2D radial flux machines such as:  \n",
    "- surface or interior permanent magnet machines (SPMSM, IPMSM)  \n",
    "- synchronous reluctance machines (SynRM)  \n",
    "- squirrel-cage induction machines and doubly-fed induction machines (SCIM, DFIM)  \n",
    "- would rotor synchronous machines and salient pole synchronous machines (WSRM)  \n",
    "- switched reluctance machines (SRM)  \n",
    "\n",
    "The architecture of Pyleecan also enables to define other kinds of machines (with more than two laminations for instance). More information in our ICEM 2020 pyblication \\[2\\]\n",
    "\n",
    "Every machine can be defined by using the **Graphical User Interface** or directly in **Python script**.\n",
    "\n",
    "## Defining machine with Pyleecan GUI \n",
    "The GUI is the easiest way to define machine in Pyleecan. Its purpose is to create or load a machine and save it in JSON format to be loaded in a python script. The interface enables to define step by step in a user-friendly way every characteristics of the machine such as:  \n",
    "- topology  \n",
    "- dimensions  \n",
    "- materials  \n",
    "- winding  \n",
    "\n",
    "Each parameter is explained by a tooltip and the machine can be previewed at each stage of the design.\n"
   ]
  },
  {
   "cell_type": "markdown",
   "metadata": {},
   "source": [
    "## Start the GUI\n",
    "The GUI can be started by running the following command in the notebook:\n",
    "\n",
    "To use it on Anaconda you may need to create the system variable:\n",
    "\n",
    "QT_QPA_PLATFORM_PLUGIN_PATH : path\\to\\anaconda3\\Lib\\site-packages\\PySide2\\plugins\\platforms"
   ]
  },
  {
   "cell_type": "code",
   "execution_count": null,
   "metadata": {},
   "outputs": [],
   "source": [
    "# Start Pyleecan GUI from the Jupyter Notebook\n",
    "%run -m pyleecan"
   ]
  },
  {
   "cell_type": "markdown",
   "metadata": {},
   "source": [
    "The GUI can also be launched in a terminal by calling the following command in a terminal:\n",
    "```\n",
    "Path/to/python.exe -m pyleecan\n",
    "```"
   ]
  },
  {
   "cell_type": "markdown",
   "metadata": {},
   "source": [
    "## load a machine\n",
    "Once the machine defined in the GUI it can be loaded with the following commands:"
   ]
  },
  {
   "cell_type": "code",
   "execution_count": null,
   "metadata": {},
   "outputs": [],
   "source": [
    "%matplotlib notebook\n",
    "\n",
    "# Load the machine\n",
    "from os.path import join\n",
    "from pyleecan.Functions.load import load\n",
    "from pyleecan.definitions import DATA_DIR\n",
    "\n",
    "Toyota_Prius = load(join(DATA_DIR, \"Machine\", \"Toyota_Prius.json\"))\n",
    "Toyota_Prius.plot()"
   ]
  },
  {
   "cell_type": "markdown",
   "metadata": {},
   "source": [
    "## Defining Machine in scripting mode \n",
    "Pyleecan also enables to define the machine in scripting mode, using different classes. Each class is defined from a csv file in the folder _pyleecan/Generator/ClasseRef_ and the documentation of every class is available on the dedicated [webpage](https://www.pyleecan.org/pyleecan.Classes.html).\n",
    "The following image shows the machine classes organization : \n",
    "\n",
    "![](https://www.pyleecan.org/_static/machine_classes_UML.png)\n",
    "\n",
    "Every rotor and stator can be created with the **Lamination** class or one of its daughters.  \n",
    "\n",
    "![](https://www.pyleecan.org/_static/lamination_classes_UML.png)\n",
    "\n",
    "The scripting enables to define some complex and exotic machine that can't be defined in the GUI such as this one:"
   ]
  },
  {
   "cell_type": "code",
   "execution_count": null,
   "metadata": {
    "scrolled": true
   },
   "outputs": [],
   "source": [
    "from pyleecan.Classes.MachineUD import MachineUD\n",
    "from pyleecan.Classes.LamSlotWind import LamSlotWind\n",
    "from pyleecan.Classes.LamSlot import LamSlot\n",
    "from pyleecan.Classes.WindingCW2LT import WindingCW2LT\n",
    "from pyleecan.Classes.SlotW10 import SlotW10\n",
    "from pyleecan.Classes.SlotW22 import SlotW22\n",
    "from numpy import pi\n",
    "\n",
    "machine = MachineUD()\n",
    "\n",
    "# Main geometry parameter\n",
    "Rext = 170e-3  # Exterior radius of outter lamination\n",
    "W1 = 30e-3  # Width of first lamination\n",
    "A1 = 2.5e-3  # Width of the first airgap\n",
    "W2 = 20e-3\n",
    "A2 = 10e-3\n",
    "W3 = 20e-3\n",
    "A3 = 2.5e-3\n",
    "W4 = 60e-3\n",
    "\n",
    "# Outer stator\n",
    "lam1 = LamSlotWind(Rext=Rext, Rint=Rext - W1, is_internal=False, is_stator=True)\n",
    "lam1.slot = SlotW22(\n",
    "    Zs=12, W0=2 * pi / 12 * 0.75, W2=2 * pi / 12 * 0.75, H0=0, H2=W1 * 0.65\n",
    ")\n",
    "lam1.winding = WindingCW2LT(qs=3, p=3)\n",
    "# Outer rotor\n",
    "lam2 = LamSlot(\n",
    "    Rext=lam1.Rint - A1, Rint=lam1.Rint - A1 - W2, is_internal=True, is_stator=False\n",
    ")\n",
    "lam2.slot = SlotW10(Zs=22, W0=25e-3, W1=25e-3, W2=15e-3, H0=0, H1=0, H2=W2 * 0.75)\n",
    "# Inner rotor\n",
    "lam3 = LamSlot(\n",
    "    Rext=lam2.Rint - A2,\n",
    "    Rint=lam2.Rint - A2 - W3,\n",
    "    is_internal=False,\n",
    "    is_stator=False,\n",
    ")\n",
    "lam3.slot = SlotW10(\n",
    "    Zs=22, W0=17.5e-3, W1=17.5e-3, W2=12.5e-3, H0=0, H1=0, H2=W3 * 0.75\n",
    ")\n",
    "# Inner stator\n",
    "lam4 = LamSlotWind(\n",
    "    Rext=lam3.Rint - A3, Rint=lam3.Rint - A3 - W4, is_internal=True, is_stator=True\n",
    ")\n",
    "lam4.slot = SlotW10(Zs=12, W0=25e-3, W1=25e-3, W2=1e-3, H0=0, H1=0, H2=W4 * 0.75)\n",
    "lam4.winding = WindingCW2LT(qs=3, p=3)\n",
    "# Machine definition\n",
    "machine.lam_list = [lam1, lam2, lam3, lam4]\n",
    "\n",
    "# Plot, check and save\n",
    "machine.plot()"
   ]
  },
  {
   "cell_type": "markdown",
   "metadata": {},
   "source": [
    "## Stator definition\n",
    "To define the stator, we initialize a [**LamSlotWind**](http://pyleecan.org/pyleecan.Classes.LamSlotWind.html) object with the different parameters. In pyleecan, all the parameters must be set in SI units."
   ]
  },
  {
   "cell_type": "code",
   "execution_count": null,
   "metadata": {},
   "outputs": [],
   "source": [
    "from pyleecan.Classes.LamSlotWind import LamSlotWind\n",
    "mm = 1e-3  # Millimeter\n",
    "\n",
    "\n",
    "# Lamination setup\n",
    "stator = LamSlotWind(\n",
    "    Rint=80.95 * mm, # internal radius [m]\n",
    "    Rext=134.62 * mm, # external radius [m]\n",
    "    L1=83.82 * mm, # Lamination stack active length [m] without radial ventilation airducts \n",
    "                # but including insulation layers between lamination sheets\n",
    "    Nrvd=0, # Number of radial air ventilation duct\n",
    "    Kf1=0.95, # Lamination stacking / packing factor\n",
    "    is_internal=False,\n",
    "    is_stator=True, \n",
    ")"
   ]
  },
  {
   "cell_type": "markdown",
   "metadata": {},
   "source": [
    "Then we add 48 slots using [**SlotW11**](http://pyleecan.org/pyleecan.Classes.SlotW11.html) which is one of the 25 Slot classes: "
   ]
  },
  {
   "cell_type": "code",
   "execution_count": null,
   "metadata": {},
   "outputs": [],
   "source": [
    "from pyleecan.Classes.SlotW11 import SlotW11\n",
    "\n",
    "# Slot setup\n",
    "stator.slot = SlotW11(\n",
    "    Zs=48, # Slot number\n",
    "    H0=1.0 * mm,  # Slot isthmus height\n",
    "    H1=0, # Height\n",
    "    H2=33.3 * mm, # Slot height below wedge \n",
    "    W0=1.93 * mm,  # Slot isthmus width\n",
    "    W1=5 * mm, # Slot top width\n",
    "    W2=8 * mm, # Slot bottom width\n",
    "    R1=4 * mm # Slot bottom radius\n",
    ")\n",
    "stator.plot()"
   ]
  },
  {
   "cell_type": "markdown",
   "metadata": {},
   "source": [
    "As for the slot, we can define the winding and its conductor with [**WindingDW1L**](http://pyleecan.org/pyleecan.Classes.WindingDW1L.html) and [**CondType11**](http://pyleecan.org/pyleecan.Classes.CondType11.html). The conventions for winding are further explained on [pyleecan website](https://pyleecan.org/winding.convention.html)"
   ]
  },
  {
   "cell_type": "code",
   "execution_count": null,
   "metadata": {},
   "outputs": [],
   "source": [
    "from pyleecan.Classes.WindingDW1L import WindingDW1L\n",
    "from pyleecan.Classes.CondType11 import CondType11\n",
    "# Winding setup\n",
    "stator.winding = WindingDW1L(\n",
    "    qs=3,  # number of phases\n",
    "    Lewout=0,  # staight length of conductor outside lamination before EW-bend\n",
    "    p=4,  # number of pole pairs\n",
    "    Ntcoil=9,  # number of turns per coil\n",
    "    Npcp=1,  # number of parallel circuits per phase\n",
    "    Nslot_shift_wind=0,  # 0 not to change the stator winding connection matrix built by pyleecan number \n",
    "                         # of slots to shift the coils obtained with pyleecan winding algorithm \n",
    "                         # (a, b, c becomes b, c, a with Nslot_shift_wind1=1)\n",
    "    is_reverse_wind=False # True to reverse the default winding algorithm along the airgap \n",
    "                         # (c, b, a instead of a, b, c along the trigonometric direction)\n",
    ")\n",
    "\n",
    "# Conductor setup\n",
    "stator.winding.conductor = CondType11(\n",
    "    Nwppc_tan=1, # stator winding number of preformed wires (strands) \n",
    "                 # in parallel per coil along tangential (horizontal) direction\n",
    "    Nwppc_rad=1, # stator winding number of preformed wires (strands) \n",
    "                 # in parallel per coil along radial (vertical) direction\n",
    "    Wwire=0.000912, #  single wire width without insulation [m]\n",
    "    Hwire=2e-3, # single wire height without insulation [m]\n",
    "    Wins_wire=1e-6, # winding strand insulation thickness [m]\n",
    "    type_winding_shape=0, # type of winding shape for end winding length calculation\n",
    "                          # 0 for hairpin windings\n",
    "                          # 1 for normal windings\n",
    ")\n",
    "stator.plot()"
   ]
  },
  {
   "cell_type": "markdown",
   "metadata": {},
   "source": [
    "## Rotor definition\n",
    "\n",
    "For this example, we use the [**LamHole**](http://www.pyleecan.org/pyleecan.Classes.LamHole.html) class to define the rotor as a lamination with holes to contain magnets.\n",
    "\n",
    "In the same way as for the stator, we start by defining the lamination:"
   ]
  },
  {
   "cell_type": "code",
   "execution_count": null,
   "metadata": {},
   "outputs": [],
   "source": [
    "from pyleecan.Classes.LamHole import LamHole\n",
    "\n",
    "# Rotor setup\n",
    "rotor = LamHole(\n",
    "    Rint=55.32 * mm, # Internal radius\n",
    "    Rext=80.2 * mm, # external radius\n",
    "    is_internal=True, \n",
    "    is_stator=False,\n",
    "    L1=stator.L1 # Lamination stack active length [m] \n",
    "                 # without radial ventilation airducts but including insulation layers between lamination sheets\n",
    ")"
   ]
  },
  {
   "cell_type": "markdown",
   "metadata": {},
   "source": [
    "After that, we can add holes with magnets to the rotor using the class [**HoleM50**](http://www.pyleecan.org/pyleecan.Classes.HoleM50.html): "
   ]
  },
  {
   "cell_type": "code",
   "execution_count": null,
   "metadata": {},
   "outputs": [],
   "source": [
    "from pyleecan.Classes.HoleM50 import HoleM50\n",
    "rotor.hole = list()\n",
    "rotor.hole.append(\n",
    "    HoleM50(\n",
    "        Zh=8, # Number of Hole around the circumference\n",
    "        W0=42.0 * mm,  # Slot opening\n",
    "        W1=0, # Tooth width (at V bottom)\n",
    "        W2=0, # Distance Magnet to bottom of the V\n",
    "        W3=14.0 * mm, # Tooth width (at V top)\n",
    "        W4=18.9 * mm, # Magnet Width\n",
    "        H0=10.96 * mm, # Slot Depth\n",
    "        H1=1.5 * mm, # Distance from the lamination Bore\n",
    "        H2=1 * mm, # Additional depth for the magnet\n",
    "        H3=6.5 * mm, # Magnet Height\n",
    "        H4=0, # Slot top height\n",
    "    )\n",
    ")\n",
    "rotor.hole[0].plot()\n",
    "rotor.plot()"
   ]
  },
  {
   "cell_type": "markdown",
   "metadata": {},
   "source": [
    "The holes are defined as a list to enable to create several layers of holes and/or to combine different kinds of holes\n",
    "\n",
    "## Create a shaft and a frame\n",
    "\n",
    "The classes [**Shaft**](http://www.pyleecan.org/pyleecan.Classes.Shaft.html) and [**Frame**](http://www.pyleecan.org/pyleecan.Classes.Frame.html) enable to add a shaft and a frame to the machine. For this example there is no frame:"
   ]
  },
  {
   "cell_type": "code",
   "execution_count": null,
   "metadata": {},
   "outputs": [],
   "source": [
    "from pyleecan.Classes.Shaft import Shaft\n",
    "from pyleecan.Classes.Frame import Frame\n",
    "\n",
    "# Set shaft\n",
    "shaft = Shaft(Drsh=rotor.Rint * 2, # Diamater of the rotor shaft [m]\n",
    "                                   # used to estimate bearing diameter for friction losses\n",
    "              Lshaft=1.2 # length of the rotor shaft [m] \n",
    "             )\n",
    "frame = None\n"
   ]
  },
  {
   "cell_type": "markdown",
   "metadata": {},
   "source": [
    "## Set materials and magnets\n",
    "\n",
    "Every Pyleecan object can be saved in JSON using the method `save` and can be loaded with the `load` function.\n",
    "In this example, the materials *M400_50A* and *Copper1* are loaded and set in the corresponding properties."
   ]
  },
  {
   "cell_type": "code",
   "execution_count": null,
   "metadata": {},
   "outputs": [],
   "source": [
    "# Loading Materials \n",
    "M400_50A = load(join(DATA_DIR, \"Material\", \"M400-50A.json\"))\n",
    "Copper1 = load(join(DATA_DIR, \"Material\", \"Copper1.json\"))\n",
    "\n",
    "# Set Materials\n",
    "stator.mat_type = M400_50A  # Stator Lamination material\n",
    "rotor.mat_type = M400_50A  # Rotor Lamination material\n",
    "stator.winding.conductor.cond_mat = Copper1  # Stator winding conductor material"
   ]
  },
  {
   "cell_type": "markdown",
   "metadata": {},
   "source": [
    "A material can also be defined in scripting as any other Pyleecan object. The material *Magnet_prius* is created with the classes [**Material**](http://www.pyleecan.org/pyleecan.Classes.Material.html) and [**MatMagnetics**](http://www.pyleecan.org/pyleecan.Classes.MatMagnetics.html)."
   ]
  },
  {
   "cell_type": "code",
   "execution_count": null,
   "metadata": {},
   "outputs": [],
   "source": [
    "from pyleecan.Classes.Material import Material\n",
    "from pyleecan.Classes.MatMagnetics import MatMagnetics\n",
    "\n",
    "# Defining magnets\n",
    "Magnet_prius = Material(name=\"Magnet_prius\")\n",
    "\n",
    "# Definition of the magnetic properties of the material\n",
    "Magnet_prius.mag = MatMagnetics(\n",
    "    mur_lin = 1.05, # Relative magnetic permeability\n",
    "    Hc = 902181.163126629, # Coercitivity field [A/m]\n",
    "    alpha_Br = -0.001, # temperature coefficient for remanent flux density /°C compared to 20°C\n",
    "    Brm20 = 1.24, # magnet remanence induction at 20°C [T]\n",
    "    Wlam = 0, # lamination sheet width without insulation [m] (0 == not laminated)\n",
    ")\n",
    "\n",
    "# Definition of the electric properties of the material \n",
    "Magnet_prius.elec.rho = 1.6e-06 # Resistivity at 20°C\n",
    "\n",
    "# Definition of the structural properties of the material\n",
    "Magnet_prius.struct.rho = 7500.0 # mass per unit volume [kg/m3]"
   ]
  },
  {
   "cell_type": "markdown",
   "metadata": {},
   "source": [
    "The magnet materials are set with the \"magnet_X\" property. Pyleecan enables to define different magnetization or material for each magnets of the holes. Here both magnets are defined identical."
   ]
  },
  {
   "cell_type": "code",
   "execution_count": null,
   "metadata": {},
   "outputs": [],
   "source": [
    "# Set magnets in the rotor hole\n",
    "rotor.hole[0].magnet_0.mat_type = Magnet_prius\n",
    "rotor.hole[0].magnet_1.mat_type = Magnet_prius\n",
    "rotor.hole[0].magnet_0.type_magnetization = 1\n",
    "rotor.hole[0].magnet_1.type_magnetization = 1"
   ]
  },
  {
   "cell_type": "markdown",
   "metadata": {},
   "source": [
    "## Create, save and plot the machine\n",
    "Finally, the Machine object can be created with [**MachineIPMSM**](http://www.pyleecan.org/pyleecan.Classes.MachineIPMSM.html) and saved using the `save` method."
   ]
  },
  {
   "cell_type": "code",
   "execution_count": null,
   "metadata": {},
   "outputs": [],
   "source": [
    "from pyleecan.Classes.MachineIPMSM import MachineIPMSM\n",
    "\n",
    "%matplotlib notebook\n",
    "IPMSM_Prius_2004 = MachineIPMSM(\n",
    "    name=\"Toyota Prius 2004\", \n",
    "    stator=stator, \n",
    "    rotor=rotor, \n",
    "    shaft=shaft, \n",
    "    frame=None\n",
    ")\n",
    "IPMSM_Prius_2004.save('IPMSM_Toyota_Prius_2004.json')\n",
    "\n",
    "im=IPMSM_Prius_2004.plot()"
   ]
  },
  {
   "cell_type": "markdown",
   "metadata": {},
   "source": [
    "Note that Pyleecan also handles ventilation duct thanks to the classes :  \n",
    "- [**VentilationCirc**](http://www.pyleecan.org/pyleecan.Classes.VentilationCirc.html)  \n",
    "- [**VentilationPolar**](http://www.pyleecan.org/pyleecan.Classes.VentilationPolar.html)  \n",
    "- [**VentilationTrap**](http://www.pyleecan.org/pyleecan.Classes.VentilationTrap.html)  "
   ]
  },
  {
   "cell_type": "markdown",
   "metadata": {},
   "source": [
    "# 2) Magnetic model with FEMM\n",
    "\n",
    "This part of the webinar shows the different steps to **compute magnetic flux and electromagnetic torque** with pyleecan **automated coupling with FEMM**. Every electrical machine defined in Pyleecan can be automatically drawn in [FEMM](http://www.femm.info/wiki/HomePage) to compute torque, airgap flux and electromotive force.\n",
    "\n",
    "## Simulation definition\n",
    "### Inputs\n",
    "\n",
    "The simulation is defined with a [**Simu1**](http://www.pyleecan.org/pyleecan.Classes.Simu1.html) object. This object corresponds to a simulation with 5 sequential physics (or modules):\n",
    "- electrical  \n",
    "- magnetic  \n",
    "- force  \n",
    "- structural  \n",
    "- acoustic  \n",
    "\n",
    "Each physics/modules can have several models to solve them. For now pyleecan includes:\n",
    "- an Electrical model for PMSM machine with FEMM\n",
    "- a Magnetic model with FEMM for all machines\n",
    "- a Force model (Maxwell Tensor)\n",
    "- Magnetic and Structural models with GMSH/Elmer\n",
    "\n",
    "[**Simu1**](http://www.pyleecan.org/pyleecan.Classes.Simu1.html) object enforces a weak coupling between each physics: the input of each physic is the output of the previous one.\n",
    "\n",
    "The Magnetic physics is defined with the object [**MagFEMM**](https://www.pyleecan.org/pyleecan.Classes.MagFEMM.html) and the other physics are deactivated (set to None). \n",
    "\n",
    "We define the starting point of the simulation with an [**InputCurrent**](http://www.pyleecan.org/pyleecan.Classes.InputCurrent.html) object to enforce the electrical module output with:\n",
    "- angular and the time discretization  \n",
    "- rotor speed  \n",
    "- stator currents  "
   ]
  },
  {
   "cell_type": "code",
   "execution_count": null,
   "metadata": {},
   "outputs": [],
   "source": [
    "from os.path import join\n",
    "\n",
    "from numpy import ones, pi, array, linspace, cos, sqrt\n",
    "\n",
    "from pyleecan.Classes.Simu1 import Simu1\n",
    "from pyleecan.Classes.InputCurrent import InputCurrent\n",
    "from pyleecan.Classes.MagFEMM import MagFEMM\n",
    "from pyleecan.Functions.load import load\n",
    "from pyleecan.definitions import DATA_DIR\n",
    "\n",
    "# Reload machine IPMSM_A\n",
    "Toyota_Prius = load(join(DATA_DIR, \"Machine\", \"Toyota_Prius.json\"))\n",
    "\n",
    "# Create the Simulation\n",
    "simu_femm = Simu1(name=\"Webinar_1_MagFemm\", machine=Toyota_Prius)   \n",
    "p = simu_femm.machine.stator.winding.p\n",
    "qs = simu_femm.machine.stator.winding.qs\n",
    "\n",
    "# Defining Simulation Input\n",
    "simu_femm.input = InputCurrent()\n",
    "\n",
    "# Rotor speed [rpm]\n",
    "simu_femm.input.N0 = 2000\n",
    "\n",
    "# time discretization [s]\n",
    "time = linspace(start=0, stop=60/simu_femm.input.N0, num=32*p, endpoint=False) # 16 timesteps\n",
    "simu_femm.input.time = time \n",
    "\n",
    "# Angular discretization along the airgap circonference for flux density calculation\n",
    "simu_femm.input.angle = linspace(start = 0, stop = 2*pi, num=2048, endpoint=False) # 2048 steps \n",
    "\n",
    "# Stator currents as a function of time, each column correspond to one phase [A]\n",
    "I0_rms = 250/sqrt(2) \n",
    "felec = p * simu_femm.input.N0 /60 # [Hz]\n",
    "rot_dir = simu_femm.machine.stator.comp_mmf_dir()\n",
    "Phi0 = 140*pi/180  # Maximum Torque Per Amp\n",
    "\n",
    "Ia = (\n",
    "    I0_rms\n",
    "    * sqrt(2)\n",
    "    * cos(2 * pi * felec * time + 0 * rot_dir * 2 * pi / qs + Phi0)\n",
    ")\n",
    "Ib = (\n",
    "    I0_rms\n",
    "    * sqrt(2)\n",
    "    * cos(2 * pi * felec * time + 1 * rot_dir * 2 * pi / qs + Phi0)\n",
    ")\n",
    "Ic = (\n",
    "    I0_rms\n",
    "    * sqrt(2)\n",
    "    * cos(2 * pi * felec * time + 2 * rot_dir * 2 * pi / qs + Phi0)\n",
    ")\n",
    "simu_femm.input.Is = array([Ia, Ib, Ic]).transpose()"
   ]
  },
  {
   "cell_type": "markdown",
   "metadata": {},
   "source": [
    "In this example stator currents are enforced as a function of time for each phase. Sinusoidal current can also be defined with Id/Iq as explained in [this tutorial](https://www.pyleecan.org/tuto_Operating_point.html).\n",
    "\n",
    "### MagFEMM configuration\n",
    "For the configuration of the Magnetic module, we use the object [**MagFEMM**](https://www.pyleecan.org/pyleecan.Classes.MagFEMM.html) that computes the airgap flux density by calling FEMM. The model parameters are set though the properties of the [**MagFEMM**](https://www.pyleecan.org/pyleecan.Classes.MagFEMM.html) object. In this tutorial we will present the main ones, the complete list is available by looking at [**Magnetics**](http://www.pyleecan.org/pyleecan.Classes.Magnetics.html) and [**MagFEMM**](http://www.pyleecan.org/pyleecan.Classes.MagFEMM.html) classes documentation.\n",
    "\n",
    "*type_BH_stator* and *type_BH_rotor* enable to select how to model the B(H) curve of the laminations in FEMM. The material parameters and in particular the B(H) curve are setup directly [in the machine](https://www.pyleecan.org/tuto_Machine.html). "
   ]
  },
  {
   "cell_type": "code",
   "execution_count": null,
   "metadata": {},
   "outputs": [],
   "source": [
    "from pyleecan.Classes.MagFEMM import MagFEMM\n",
    "\n",
    "simu_femm.mag = MagFEMM(\n",
    "    type_BH_stator=0, # 0 to use the material B(H) curve, \n",
    "                      # 1 to use linear B(H) curve according to mur_lin,\n",
    "                      # 2 to enforce infinite permeability (mur_lin =100000)\n",
    "    type_BH_rotor=0,  # 0 to use the material B(H) curve, \n",
    "                      # 1 to use linear B(H) curve according to mur_lin,\n",
    "                      # 2 to enforce infinite permeability (mur_lin =100000)\n",
    "    file_name = \"\", # Name of the file to save the FEMM model\n",
    ")\n",
    "\n",
    "# Only the magnetic module is defined\n",
    "simu_femm.force = None\n",
    "simu_femm.struct = None "
   ]
  },
  {
   "cell_type": "markdown",
   "metadata": {},
   "source": [
    "Pyleecan coupling with FEMM enables to define the machine with symmetry and with sliding band to optimize the computation time. The angular periodicity of the machine will be computed and (in the particular case) only 1/8 of the machine will be drawn (4 symmetry + antiperiodicity):"
   ]
  },
  {
   "cell_type": "code",
   "execution_count": null,
   "metadata": {},
   "outputs": [],
   "source": [
    "simu_femm.mag.is_periodicity_a=True"
   ]
  },
  {
   "cell_type": "markdown",
   "metadata": {},
   "source": [
    "The same is done for time periodicity only half of one electrical period is calculated (i.e: 1/8 of mechanical period):"
   ]
  },
  {
   "cell_type": "code",
   "execution_count": null,
   "metadata": {},
   "outputs": [],
   "source": [
    "simu_femm.mag.is_periodicity_t=True"
   ]
  },
  {
   "cell_type": "markdown",
   "metadata": {},
   "source": [
    "Pyleecan enable to parallelize the call to FEMM by simply setting:"
   ]
  },
  {
   "cell_type": "code",
   "execution_count": null,
   "metadata": {},
   "outputs": [],
   "source": [
    "simu_femm.mag.nb_worker = 4  # Number of FEMM instances to run at the same time (1 by default)"
   ]
  },
  {
   "cell_type": "markdown",
   "metadata": {},
   "source": [
    "At the end of the simulation, the mesh and the solution can be saved in the Output object with:"
   ]
  },
  {
   "cell_type": "code",
   "execution_count": null,
   "metadata": {},
   "outputs": [],
   "source": [
    "simu_femm.mag.is_get_meshsolution = True # To get FEA mesh for latter post-procesing\n",
    "simu_femm.mag.is_save_meshsolution_as_file = False # To save FEA results in a dat file"
   ]
  },
  {
   "cell_type": "markdown",
   "metadata": {},
   "source": [
    "## Run simulation"
   ]
  },
  {
   "cell_type": "code",
   "execution_count": null,
   "metadata": {},
   "outputs": [],
   "source": [
    "out_femm = simu_femm.run()"
   ]
  },
  {
   "cell_type": "markdown",
   "metadata": {},
   "source": [
    "When running the simulation, an FEMM window runs in background. You can open it to see pyleecan drawing the machine and defining the surfaces. \n",
    "![](https://www.pyleecan.org/_static/IPMSM_FEMM.png)\n",
    "The simulation will compute 16 different timesteps by updating the current and the sliding band boundary condition.\n",
    "\n",
    "Once the simulation is finished, an Output object is return. The results are stored in the magnetic part of the output (i.e. _out_femm.mag_ ) and different plots can be called. This _out_femm.mag_ contains:   \n",
    "- *time*: magnetic time vector without symmetry   \n",
    "- *angle*: magnetic position vector without symmetry   \n",
    "- *B*: airgap flux density (contains radial and tangential components)   \n",
    "- *Tem*: electromagnetic torque   \n",
    "- *Tem_av*: average electromagnetic torque\n",
    "- *Tem_rip_pp* : Peak to Peak Torque ripple\n",
    "- *Tem_rip_norm*: Peak to Peak Torque ripple normalized according to average torque   \n",
    "- *Phi_wind_stator*: stator winding flux   \n",
    "- *emf*: electromotive force  \n",
    "\n",
    "Some of these properties are \"Data objects\" from the [SciDataTool](https://github.com/Eomys/SciDataTool) project. These object enables to handle unit conversion, interpolation, fft, periodicity... They will be introduced more in details in the second webinar.\n",
    "\n",
    "## Plot results\n",
    "**Output** object embbed different plots to visualize results easily. A dedicated tutorial is available [here](https://www.pyleecan.org/tuto_Plots.html).\n",
    "\n",
    "For instance, the radial and tangential magnetic flux in the airgap at a specific timestep can be plotted with:"
   ]
  },
  {
   "cell_type": "code",
   "execution_count": null,
   "metadata": {},
   "outputs": [],
   "source": [
    "# Radial magnetic flux over space\n",
    "out_femm.mag.B.plot_2D_Data(\"angle\",\"time[0]\",component_list=[\"radial\"])"
   ]
  },
  {
   "cell_type": "code",
   "execution_count": null,
   "metadata": {},
   "outputs": [],
   "source": [
    "# Radial magnetic flux FFT over space\n",
    "out_femm.mag.B.plot_2D_Data(\"wavenumber=[0,76]\",\"time[0]\", component_list=[\"radial\"])"
   ]
  },
  {
   "cell_type": "code",
   "execution_count": null,
   "metadata": {},
   "outputs": [],
   "source": [
    "# Tangential magnetic flux over space\n",
    "out_femm.mag.B.plot_2D_Data(\"angle\",\"time[0]\", component_list=[\"tangential\"])"
   ]
  },
  {
   "cell_type": "code",
   "execution_count": null,
   "metadata": {},
   "outputs": [],
   "source": [
    "# Tangential magnetic flux FFT over space\n",
    "out_femm.mag.B.plot_2D_Data(\"wavenumber=[0,76]\",\"time[0]\", component_list=[\"tangential\"])"
   ]
  },
  {
   "cell_type": "code",
   "execution_count": null,
   "metadata": {},
   "outputs": [],
   "source": [
    "# Torque, one can see that the first torque ripple harmonic is at N0/60*p*6=800 Hz\n",
    "out_femm.mag.Tem.plot_2D_Data(\"time\")\n",
    "out_femm.mag.Tem.plot_2D_Data(\"freqs=[0,2000]\")"
   ]
  },
  {
   "cell_type": "markdown",
   "metadata": {},
   "source": [
    "If the mesh was saved in the output object (simu_femm.mag.is_get_meshsolution = True), it can be plotted with:"
   ]
  },
  {
   "cell_type": "code",
   "execution_count": null,
   "metadata": {},
   "outputs": [],
   "source": [
    "out_femm.mag.meshsolution.plot_contour(label=\"B\", group_names=\"stator core\")"
   ]
  },
  {
   "cell_type": "code",
   "execution_count": null,
   "metadata": {},
   "outputs": [],
   "source": [
    "out_femm.mag.Phi_wind_stator.plot_2D_Data(\"time\",\"phase\")"
   ]
  },
  {
   "cell_type": "markdown",
   "metadata": {},
   "source": [
    "# 3) How to set the Operating Point\n",
    "This part of the webinar explains how to use the object InputCurrent and VarLoadCurrent to run a magnetic simulation on several operating points by setting Id/Iq or I0/Phi0.\n",
    "\n",
    "The reference used to validate this part of the webinar is \\[3\\] : Z. Yang, M. Krishnamurthy and I. P. Brown, \"Electromagnetic and vibrational characteristic of IPM over full torque-speed range,\""
   ]
  },
  {
   "cell_type": "code",
   "execution_count": null,
   "metadata": {},
   "outputs": [],
   "source": [
    "from pyleecan.Classes.Simu1 import Simu1\n",
    "from pyleecan.Classes.MagFEMM import MagFEMM\n",
    "\n",
    "# Initialization of the Simulation\n",
    "simu_op = Simu1(name=\"Webinar_1_Id_Iq\", machine=Toyota_Prius)\n",
    "\n",
    "# Definition of the magnetic simulation (FEMM with symmetry and sliding band)\n",
    "simu_op.mag = MagFEMM(\n",
    "    type_BH_stator=0,\n",
    "    type_BH_rotor=0,\n",
    "    is_periodicity_a=True,\n",
    "    is_periodicity_t=True,\n",
    "    Kgeo_fineness=1,\n",
    "    nb_worker=4,\n",
    ")\n",
    "# Only the magnetic module is defined\n",
    "simu_op.elec = None\n",
    "simu_op.force = None\n",
    "simu_op.struct = None"
   ]
  },
  {
   "cell_type": "markdown",
   "metadata": {},
   "source": [
    "## Defining an Operating point with Id/Iq\n",
    "The InputCurrent object enable to create an \"OutElec\" object that corresponds to the output of the Electrical module and the input of the Magnetic module. In this example, InputCurrent is used to define the starting point with a sinusoidal current defined with Id_ref and Iq_ref:"
   ]
  },
  {
   "cell_type": "code",
   "execution_count": null,
   "metadata": {},
   "outputs": [],
   "source": [
    "from pyleecan.Classes.InputCurrent import InputCurrent\n",
    "from numpy import exp\n",
    "\n",
    "# Definition of a sinusoidal current\n",
    "simu_op.input = InputCurrent()\n",
    "Id_ref = (I0_rms*exp(1j*Phi0)).real\n",
    "Iq_ref = (I0_rms*exp(1j*Phi0)).imag\n",
    "simu_op.input.Id_ref = Id_ref # [A] (RMS)\n",
    "simu_op.input.Iq_ref = Iq_ref # [A] (RMS)\n",
    "(Id_ref,Iq_ref)"
   ]
  },
  {
   "cell_type": "markdown",
   "metadata": {},
   "source": [
    "The discretization of the current and for the magnetic computation can also be set with the following parameters:"
   ]
  },
  {
   "cell_type": "code",
   "execution_count": null,
   "metadata": {},
   "outputs": [],
   "source": [
    "simu_op.input.Nt_tot = 5*8 # Number of time step\n",
    "simu_op.input.Na_tot = 2048 # Spatial discretization\n",
    "simu_op.input.N0 = 2000 # Rotor speed [rpm]"
   ]
  },
  {
   "cell_type": "markdown",
   "metadata": {},
   "source": [
    "When Nt_tot is defined, the time vector is automatically set to:\n",
    "\n",
    "    linspace(0, 60 / N0 * Nrev, Nt_tot)\n",
    "\n",
    "With Nrev the number of revolution of the rotor (1 by default)"
   ]
  },
  {
   "cell_type": "markdown",
   "metadata": {},
   "source": [
    "When Na_tot is defined, the angle vector is automatically set to:\n",
    "\n",
    "    linspace(0, 2*pi, Na_tot)\n",
    "\n",
    "The input is now fully defined, the simulation can now be run:"
   ]
  },
  {
   "cell_type": "code",
   "execution_count": null,
   "metadata": {},
   "outputs": [],
   "source": [
    "out_op = simu_op.run()"
   ]
  },
  {
   "cell_type": "code",
   "execution_count": null,
   "metadata": {},
   "outputs": [],
   "source": [
    "# Plot the flux\n",
    "out_op.mag.B.plot_2D_Data(\"angle\")\n",
    "# Plot the current\n",
    "out_op.elec.Is.plot_2D_Data(\"time\", \"phase\")"
   ]
  },
  {
   "cell_type": "markdown",
   "metadata": {},
   "source": [
    "The Operating Point can also be defined with I0 / Phi0 with (the object properties are still Id_ref and Iq_ref):"
   ]
  },
  {
   "cell_type": "code",
   "execution_count": null,
   "metadata": {},
   "outputs": [],
   "source": [
    "from numpy import pi\n",
    "\n",
    "simu_op.input.set_Id_Iq(I0=I0_rms, Phi0=Phi0)\n",
    "print(\"Id: \"+str(simu_op.input.Id_ref))\n",
    "print(\"Iq: \"+str(simu_op.input.Iq_ref))"
   ]
  },
  {
   "cell_type": "markdown",
   "metadata": {},
   "source": [
    "## Iterating on several Operating Point\n",
    "Reference torque and current angle vector are:"
   ]
  },
  {
   "cell_type": "code",
   "execution_count": null,
   "metadata": {},
   "outputs": [],
   "source": [
    "from numpy import linspace, array, pi\n",
    "Tem_av_ref = array([79, 125, 160, 192, 237, 281, 319, 343, 353, 332, 266, 164, 22]) # Yang et al, 2013\n",
    "Phi0_ref = linspace(60 * pi / 180, 180 * pi / 180, Tem_av_ref.size)"
   ]
  },
  {
   "cell_type": "markdown",
   "metadata": {},
   "source": [
    "Each pyleecan simulation is assumed to be quasi-static and run on a single operating point (fixed speed). To run a simulation on several operating points two steps are needed: First define a simulation that run correctly on a single operating point (like the one defined above), then define a VarLoadCurrent object. \n",
    "\n",
    "The VarLoadCurrent object is defined with a matrix with each line corresponding to an operating point and the column are:\n",
    "- (N0, I0, Phi0) if type_OP_matrix==0\n",
    "- (N0, Id, Iq) if type_OP_matrix==1\n",
    "\n",
    "The following VarLoadCurrent object will run the previous simulation N_simu times by changing the value of Phi0. \n",
    "\n",
    "A fourth column can be added by setting is_torque=True. It enables to define the reference torque for the Operating Point. The reference is stored in output.elec.Tem_av_ref, the real computed torque is stored in output.mag.Tem_av."
   ]
  },
  {
   "cell_type": "code",
   "execution_count": null,
   "metadata": {},
   "outputs": [],
   "source": [
    "from pyleecan.Classes.VarLoadCurrent import VarLoadCurrent\n",
    "from numpy import zeros, ones, linspace, array, sqrt, arange\n",
    "\n",
    "varload = VarLoadCurrent(is_torque=True, is_reuse_femm_file=True)\n",
    "varload.type_OP_matrix = 0 # Matrix N0, I0, Phi0\n",
    "\n",
    "# Choose which operating points to run\n",
    "step = 2 # step=1 to do all OP\n",
    "         # step=2 to do 1 OP out of 2 (fastest)    \n",
    "I_simu = arange(0,Tem_av_ref.size, step) \n",
    "N_simu = I_simu.size\n",
    "\n",
    "# Creating the Operating point matrix\n",
    "OP_matrix = zeros((N_simu,4))\n",
    "\n",
    "# Set N0 = 2000 [rpm] for all simulation\n",
    "OP_matrix[:,0] = 2000 * ones((N_simu))\n",
    "\n",
    "# Set I0 = 250 / sqrt(2) [A] (RMS) for all simulation\n",
    "OP_matrix[:,1] = I0_rms * ones((N_simu)) \n",
    "\n",
    "# Set Phi0 from 60° to 180°\n",
    "OP_matrix[:,2] = Phi0_ref[I_simu]\n",
    "\n",
    "# Set reference torque from Yang et al, 2013\n",
    "OP_matrix[:,3] = Tem_av_ref[I_simu]\n",
    "\n",
    "varload.OP_matrix = OP_matrix\n",
    "print(OP_matrix)"
   ]
  },
  {
   "cell_type": "markdown",
   "metadata": {},
   "source": [
    "The original simulation will be duplicated N_simu times with the value of InputCurrent updated according to the matrix."
   ]
  },
  {
   "cell_type": "code",
   "execution_count": null,
   "metadata": {},
   "outputs": [],
   "source": [
    "simu_vop = simu_op.copy()\n",
    "simu_vop.var_simu = varload\n",
    "\n",
    "# Speed-up computation (set reference simu as first OP)\n",
    "simu_vop.input.set_OP_from_array(varload.OP_matrix, varload.type_OP_matrix)\n",
    "\n",
    "Xout_vop = simu_vop.run()"
   ]
  },
  {
   "cell_type": "markdown",
   "metadata": {},
   "source": [
    "VarLoadCurrent defines a \"multi-simulation\" that returns an \"XOutput\" rather than an \"Output\" object. XOutput is an Output object (all the normal properties are set with the reference simulation results) and some other properties corresponding to the multi-simulation.\n",
    "\n",
    "Pyleecan will automatically extract some values from each simulation. These values are all gathered in the xoutput_dict:"
   ]
  },
  {
   "cell_type": "code",
   "execution_count": null,
   "metadata": {},
   "outputs": [],
   "source": [
    "print(\"Values available in XOutput:\")\n",
    "print(Xout_vop.xoutput_dict.keys())\n",
    "\n",
    "print(\"\\nI0 for each simulation:\")\n",
    "print(Xout_vop[\"I0\"].result)\n",
    "print(\"\\nPhi0 for each simulation:\")\n",
    "print(Xout_vop[\"Phi0\"].result)"
   ]
  },
  {
   "cell_type": "markdown",
   "metadata": {},
   "source": [
    "Any parameter in the XOutput can be plot as a function of any other"
   ]
  },
  {
   "cell_type": "code",
   "execution_count": null,
   "metadata": {},
   "outputs": [],
   "source": [
    "fig = Xout_vop.plot_multi(\"Phi0\", \"Tem_av\")\n",
    "fig = Xout_vop.plot_multi(\"Id\", \"Iq\")"
   ]
  },
  {
   "cell_type": "markdown",
   "metadata": {},
   "source": [
    "It is possible to select what pyleecan store in the XOutput with \"DataKeeper\" objects that will be introduced in the second webinar.\n",
    "\n",
    "Finally, the computed average torque can be compared to the one in the publication from Yang et al (data has been extracted from their graph using [Engauge Digitizer](http://markummitchell.github.io/engauge-digitizer/). Note that the generic plot function `plot_A_2D` has been used here."
   ]
  },
  {
   "cell_type": "code",
   "execution_count": null,
   "metadata": {
    "scrolled": true
   },
   "outputs": [],
   "source": [
    "from SciDataTool.Functions.Plot.plot_2D import plot_2D\n",
    "from pyleecan.definitions import config_dict\n",
    "from numpy import array\n",
    "\n",
    "curve_colors = config_dict[\"PLOT\"][\"COLOR_DICT\"][\"CURVE_COLORS\"]\n",
    "\n",
    "plot_2D(\n",
    "    array([x*180/pi for x in Xout_vop.xoutput_dict[\"Phi0\"].result]),\n",
    "    [Xout_vop.xoutput_dict[\"Tem_av\"].result, Xout_vop.xoutput_dict[\"Tem_av_ref\"].result],\n",
    "    color_list=curve_colors,\n",
    "    legend_list=[\"Pyleecan\", \"Yang et al, 2013\"],\n",
    "    xlabel=\"Current angle [°]\",\n",
    "    ylabel=\"Electrical torque [N.m]\",\n",
    "    title=\"Electrical torque vs current angle\"\n",
    ")"
   ]
  },
  {
   "cell_type": "markdown",
   "metadata": {},
   "source": [
    "# 4) How to compute currents, voltage and torque using the Electrical Module\n",
    "\n",
    "This part of the webinar explains how to use the Electrical Module to compute currents, voltage and torque, using a simple **electrical equivalent circuit**. The idea is to provide insight on how to implement other methods.\n",
    "\n",
    "The reference used to validate this part is \\[3\\] : Z. Yang, M. Krishnamurthy and I. P. Brown, \"Electromagnetic and vibrational characteristic of IPM over full torque-speed range,\" \n",
    "\n",
    "## Electrical Equivalent Circuit (EEC)\n",
    "The electrical module is defined with the object EEC_PMSM that correspond to the **electrical equivalent circuit** from \"Advanced Electrical Drives, analysis, modeling, control\", Rik de doncker, Duco W.J. Pulle, Andre Veltman, Springer edition, is then used for the computation of Ud/Uq or Id/Iq (see schematics hereafter). \n",
    "\n",
    "The parameters from the EEC are first computed according to the `FluxLinkFEMM` and `IndMagFEMM` objects. They enable to compute the flux linkage and the magnetic inductances using FEMM simulations (with symmetries and number of time steps). For the flux linkage computation, the currents are set to 0A.\n",
    "\n",
    "Once the parameter of the EEC known, the voltage can be computed. The electrical torque is then computed according to the formula: $T_{em}=\\frac{P-RI^2}{\\Omega}$, where $P$ is the magnetic power $P=q_s\\Re(VI^*)$"
   ]
  },
  {
   "cell_type": "markdown",
   "metadata": {},
   "source": [
    "                 <---                               --->\n",
    "     -----R-----wsLqIq----              -----R-----wsLdId----\n",
    "    |                     |            |                     |\n",
    "    |                     |            |                    BEMF\n",
    "    |                     |            |                     |\n",
    "     ---------Id----------              ---------Iq----------\n",
    "             \n",
    "             --->                               ---> \n",
    "              Ud                                 Uq"
   ]
  },
  {
   "cell_type": "code",
   "execution_count": null,
   "metadata": {},
   "outputs": [],
   "source": [
    "from pyleecan.Classes.Simu1 import Simu1\n",
    "from pyleecan.Classes.Electrical import Electrical\n",
    "from pyleecan.Classes.EEC_PMSM import EEC_PMSM\n",
    "from pyleecan.Classes.FluxLinkFEMM import FluxLinkFEMM\n",
    "from pyleecan.Classes.IndMagFEMM import IndMagFEMM\n",
    "\n",
    "# Initialization of the Simulation\n",
    "simu_elec = Simu1(name=\"Webinar_1_elec\", machine=Toyota_Prius)\n",
    "\n",
    "# Definition of the magnetic simulation (FEMM with symmetry and sliding band)\n",
    "simu_elec.elec = Electrical(\n",
    "    eec=EEC_PMSM(\n",
    "        indmag=IndMagFEMM(is_periodicity_a=True, Nt_tot=10),\n",
    "        fluxlink=FluxLinkFEMM(is_periodicity_a=True, Nt_tot=10),\n",
    "    )\n",
    ")\n",
    "# Run only Electrical module\n",
    "simu_elec.mag = None\n",
    "simu_elec.force = None\n",
    "simu_elec.struct = None"
   ]
  },
  {
   "cell_type": "markdown",
   "metadata": {},
   "source": [
    "## Defining starting point with InputElec or InputCurrent\n",
    "\n",
    "The starting point of the simulation is defined with InputElec or InputCurrent. These objects will create an \"OutElec\" object and initialize it with the provided values for Id/Iq, and/or Ud/Uq with InputElec.\n",
    "\n",
    "Note that Id/Iq are required to accurately compute the magnetic inductances, so that if only Ud/Uq is provided, a current Id=1A and Iq=1A will be used for the computation of Ld and Lq. A more satisfactory method would be to compute a map of Ld and Lq over Id/Iq. Future developments would be welcomed."
   ]
  },
  {
   "cell_type": "code",
   "execution_count": null,
   "metadata": {},
   "outputs": [],
   "source": [
    "from pyleecan.Classes.InputCurrent import InputCurrent\n",
    "# Definition of a sinusoidal current\n",
    "simu_elec.input = InputCurrent()\n",
    "simu_elec.input.Id_ref = Id_ref # [A] (RMS)\n",
    "simu_elec.input.Iq_ref = Iq_ref # [A] (RMS)\n",
    "simu_elec.input.Nt_tot = 10 # number of time steps to calculate flux linkage and inductance \n",
    "simu_elec.input.Na_tot = 2048 # Spatial discretization\n",
    "simu_elec.input.N0 = 2000 # Rotor speed [rpm]"
   ]
  },
  {
   "cell_type": "markdown",
   "metadata": {},
   "source": [
    "## Running the simulation and postprocessings"
   ]
  },
  {
   "cell_type": "code",
   "execution_count": null,
   "metadata": {},
   "outputs": [],
   "source": [
    "out_elec = simu_elec.run()"
   ]
  },
  {
   "cell_type": "code",
   "execution_count": null,
   "metadata": {},
   "outputs": [],
   "source": [
    "# Print voltage and torque\n",
    "print(\"Ud: \"+str(out_elec.elec.Ud_ref))\n",
    "print(\"Uq: \"+str(out_elec.elec.Uq_ref))\n",
    "print(\"Tem: \"+str(out_elec.elec.Tem_av_ref))"
   ]
  },
  {
   "cell_type": "code",
   "execution_count": null,
   "metadata": {},
   "outputs": [],
   "source": [
    "# Plot the currents\n",
    "out_elec.elec.Is.plot_2D_Data(\"time\", \"phase\")"
   ]
  },
  {
   "cell_type": "code",
   "execution_count": null,
   "metadata": {},
   "outputs": [],
   "source": [
    "# Plot the voltages\n",
    "out_elec.elec.Us.plot_2D_Data(\"time\", \"phase\")"
   ]
  },
  {
   "cell_type": "markdown",
   "metadata": {},
   "source": [
    "## Iterating on several Operating Points\n",
    "\n",
    "As in the previous part, VarLoadCurrent can be used to compute the electrical torque (instead of the magnetic torque) on several Operating points."
   ]
  },
  {
   "cell_type": "code",
   "execution_count": null,
   "metadata": {},
   "outputs": [],
   "source": [
    "# Run multisimulation\n",
    "simu_Velec = simu_elec.copy() # copy simulation at fixed speed \n",
    "simu_Velec.var_simu = varload.copy() # copy varload calculated in previous cell\n",
    "simu_Velec.input.Nt_tot = 10   # number of time steps to calculate inductance \n",
    "Xout_Velec = simu_Velec.run()"
   ]
  },
  {
   "cell_type": "markdown",
   "metadata": {},
   "source": [
    "Once the simulation is done, the torque as a function of Phi0 can be plotted with:"
   ]
  },
  {
   "cell_type": "code",
   "execution_count": null,
   "metadata": {},
   "outputs": [],
   "source": [
    "from SciDataTool.Functions.Plot.plot_2D import plot_2D\n",
    "from pyleecan.definitions import config_dict\n",
    "\n",
    "# Plot torque as a function of Phi0\n",
    "curve_colors = config_dict[\"PLOT\"][\"COLOR_DICT\"][\"CURVE_COLORS\"]\n",
    "\n",
    "try :    \n",
    "    # If previous magnetic model has been launched, overlay results\n",
    "    Ydatas = [Xout_vop.xoutput_dict[\"Tem_av\"].result, Xout_Velec.xoutput_dict[\"Tem_av_ref\"].result, Tem_av_ref[I_simu]]  \n",
    "    legend_list = [\"Pyleecan (FEMM)\", \"Pyleecan (EEC)\", \"Yang et al, 2013\"]\n",
    "    linestyle_list=[\"-\",\"dotted\",\"-\"]\n",
    "except :\n",
    "    # Compare EEC torque results with reference torque\n",
    "    Ydatas = [Xout_Velec.xoutput_dict[\"Tem_av_ref\"].result, Tem_av_ref[I_simu]]\n",
    "    legend_list=[\"Pyleecan\", \"Yang et al, 2013\"]    \n",
    "    linestyle_list=[\"-\",\"-\"]\n",
    "\n",
    "ax = plot_2D(\n",
    "    array([x*180/pi for x in Xout_Velec.xoutput_dict[\"Phi0\"].result]),\n",
    "    Ydatas,\n",
    "    color_list=curve_colors,\n",
    "    legend_list=legend_list,\n",
    "    linestyle_list = linestyle_list,\n",
    "    xlabel=\"Current angle [°]\",\n",
    "    ylabel=\"Electrical torque [N.m]\",\n",
    "    title=\"Electrical torque vs current angle\"\n",
    ")"
   ]
  },
  {
   "cell_type": "markdown",
   "metadata": {},
   "source": [
    "[1] Z. Yang, M. Krishnamurthy and I. P. Brown, \"Electromagnetic and vibrational characteristic of IPM over full torque-speed range\", *2013 International Electric Machines & Drives Conference*, Chicago, IL, 2013, pp. 295-302.\n",
    "\n",
    "[2] P. Bonneel, J. Le Besnerais, E. Devillers, C. Marinel, and R. Pile, “Design Optimization of Innovative Electrical Machines Topologies Based on Pyleecan Opensource Object-Oriented Software,” in 24th International Conference on Electrical Machines (ICEM), 2020.\n",
    "\n",
    "[3] Z. Yang, M. Krishnamurthy and I. P. Brown, \"Electromagnetic and vibrational characteristic of IPM over full torque-speed range,\" 2013 International Electric Machines & Drives Conference, Chicago, IL, 2013, pp. 295-302, doi: 10.1109/IEMDC.2013.6556267."
   ]
  }
 ],
 "metadata": {
  "kernelspec": {
   "display_name": "Python 3",
   "language": "python",
   "name": "python3"
  },
  "language_info": {
   "codemirror_mode": {
    "name": "ipython",
    "version": 3
   },
   "file_extension": ".py",
   "mimetype": "text/x-python",
   "name": "python",
   "nbconvert_exporter": "python",
   "pygments_lexer": "ipython3",
   "version": "3.8.6"
  }
 },
 "nbformat": 4,
 "nbformat_minor": 2
}
