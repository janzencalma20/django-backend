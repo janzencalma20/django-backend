{
 "cells": [
  {
   "cell_type": "markdown",
   "metadata": {},
   "source": [
    "# Webinar n°2: Pyleecan Advanced - Part 3: Mesh and Solution\n",
    "\n",
    "This notebook is the support of the second out of three webinars organized by the association [Green Forge Coop](https://www.linkedin.com/company/greenforgecoop/about/) and the UNICAS University. \n",
    "\n",
    "The webinars schedule is:\n",
    "- Friday 16th October 15h-17h (GMT+2): How to use pyleecan (basics)? Pyleecan basics, call of FEMM, use of the GUI\n",
    "- Friday 30th October 15h-17h (GMT+1): How to use pyleecan (advanced)? Optimization tools, meshing, plot commands\n",
    "- Friday 6th November 15h-17h (GMT+1): How to contribute to pyleecan? Github projects, Object Oriented Programming\n",
    "\n",
    "Speakers: Pierre Bonneel, Hélène Toubin, Raphaël Pile from EOMYS.\n",
    "\n",
    "This webinar will be recorded and the video will be shared on [pyleecan.org](https://pyleecan.org/tutorials.html)\n",
    "\n",
    "To use this notebook please:\n",
    "- Install Anaconda\n",
    "- In Anaconda Prompt run the command \"pip install pyleecan\"\n",
    "- Install the latest version of [femm](http://www.femm.info/wiki/Download) (windows only)\n",
    "- In Anaconda Navigator, lanch Jupyter Notebook\n",
    "- Jupyter Notebook should open a tab in your web brower, select this notebook to open it\n",
    "\n",
    "For this part of the webinar you will also need to install gmsh (pip install gmsh)\n",
    "\n",
    "To check if everything is correctly set, please run the following cell (WARNING: the webinar use pyleecan 1.0.2 and SciDataTool 1.1.5):"
   ]
  },
  {
   "cell_type": "code",
   "execution_count": null,
   "metadata": {},
   "outputs": [],
   "source": [
    "%matplotlib notebook\n",
    "\n",
    "# Print version of all packages\n",
    "import pyleecan\n",
    "print(\"Pyleecan version: \"+pyleecan.__version__)\n",
    "\n",
    "# Load the machine\n",
    "from os.path import join\n",
    "from pyleecan.Functions.load import load\n",
    "from pyleecan.definitions import DATA_DIR\n",
    "\n",
    "IPMSM_A = load(join(DATA_DIR, \"Machine\", \"IPMSM_A.json\"))\n",
    "IPMSM_A.plot()\n",
    "\n",
    "# Check FEMM installation\n",
    "from pyleecan.Classes._FEMMHandler import FEMMHandler\n",
    "\n",
    "femm = FEMMHandler()\n",
    "femm.openfemm(0)\n",
    "\n",
    "import gmsh"
   ]
  },
  {
   "cell_type": "markdown",
   "metadata": {},
   "source": [
    "# 1) Introduction\n",
    "This tutorial shows the different possibilities allowed by the MeshSolution module. The main purpose of the module is to store Finite Element (FE) results in a way adapted to Pyleecan architecture. Today, it is mainly dedicated to store 2D electromagnetic solution computed with FEMM, but the goal is to generalize to any physics that could be included inside Pyleecan.\n",
    " \n",
    "The notebook related to this tutorial is available on [GitHub](https://github.com/Eomys/pyleecan/tree/master/Tutorials/tuto_MeshSolution.ipynb).\n",
    "\n",
    "This tutorial is for people who wish to understand in depth how this module works, and potentially contribute to the development of the code.\n",
    "\n",
    "The idea is to make a link between classic meshmakers (for example Gmsh) and the different physics in Pyleecan. Thus, a dedicated object is necessary. The goal is to to __simplify our lives__.  "
   ]
  },
  {
   "cell_type": "markdown",
   "metadata": {},
   "source": [
    "# 2) Demo with FEMM results\n",
    "The aim of this section is to show how MeshSolution objects are used in Pyleecan to post-process FE results. \n",
    "\n",
    "## Plots"
   ]
  },
  {
   "cell_type": "code",
   "execution_count": null,
   "metadata": {},
   "outputs": [],
   "source": [
    "# Run the FEMM simulation from Webinar 1\n",
    "from numpy import ones, pi, array, linspace, cos, sqrt\n",
    "from pyleecan.Classes.Simu1 import Simu1\n",
    "from pyleecan.Classes.InputCurrent import InputCurrent\n",
    "from pyleecan.Classes.MagFEMM import MagFEMM\n",
    "from os.path import join\n",
    "from pyleecan.Functions.load import load\n",
    "from pyleecan.definitions import DATA_DIR\n",
    "\n",
    "# Create the Simulation\n",
    "IPMSM_A = load(join(DATA_DIR, \"Machine\", \"IPMSM_A.json\"))\n",
    "simu_femm = Simu1(name=\"Webinar_1_MagFemm\", machine=IPMSM_A)   \n",
    "\n",
    "# Definition of the magnetic simulation (FEMM with symmetry and sliding band)\n",
    "simu_femm.mag = MagFEMM(\n",
    "    type_BH_stator=0,\n",
    "    type_BH_rotor=0,\n",
    "    is_periodicity_a=True,\n",
    "    is_periodicity_t=True,\n",
    "    nb_worker=4,\n",
    "    Kgeo_fineness=1,\n",
    ")\n",
    "# Run only Magnetic module\n",
    "simu_femm.elec = None\n",
    "simu_femm.force = None\n",
    "simu_femm.struct = None\n",
    "# Definition of the enforced output of the electrical module\n",
    "simu_femm.input = InputCurrent(\n",
    "    Na_tot=252 * 8,\n",
    "    Nt_tot=64,\n",
    "    N0=1000,\n",
    ")\n",
    "# Set Id/Iq according to I0/Phi0\n",
    "simu_femm.input.set_Id_Iq(I0=250 / sqrt(2), Phi0=140*pi/180)"
   ]
  },
  {
   "cell_type": "markdown",
   "metadata": {},
   "source": [
    "To enable the FE results saving, the option to activate is \"is_get_mesh\": "
   ]
  },
  {
   "cell_type": "code",
   "execution_count": null,
   "metadata": {},
   "outputs": [],
   "source": [
    "simu_femm.mag.is_get_mesh=True # TO save FEMM mesh and results into a MeshSolution object\n",
    "\n",
    "out_femm = simu_femm.run()"
   ]
  },
  {
   "cell_type": "markdown",
   "metadata": {},
   "source": [
    "Now, the magnetic FEA results can be plotted. First, the mesh from FEMM can be displayed:"
   ]
  },
  {
   "cell_type": "code",
   "execution_count": null,
   "metadata": {},
   "outputs": [],
   "source": [
    "out_femm.mag.meshsolution.plot_mesh()"
   ]
  },
  {
   "cell_type": "markdown",
   "metadata": {},
   "source": [
    "One or several sub-part(s) of the mesh can be extracted:"
   ]
  },
  {
   "cell_type": "code",
   "execution_count": null,
   "metadata": {},
   "outputs": [],
   "source": [
    "out_femm.mag.meshsolution.plot_mesh(group_names=\"stator\")"
   ]
  },
  {
   "cell_type": "code",
   "execution_count": null,
   "metadata": {},
   "outputs": [],
   "source": [
    "out_femm.mag.meshsolution.plot_mesh(group_names=[\"airgap\", \"stator_windings\"])"
   ]
  },
  {
   "cell_type": "markdown",
   "metadata": {},
   "source": [
    "The intersection of the mesh can be extracted as well:"
   ]
  },
  {
   "cell_type": "code",
   "execution_count": null,
   "metadata": {},
   "outputs": [],
   "source": [
    "out_femm.mag.meshsolution.plot_mesh(group_names=[\"stator\", \"/\", \"airgap\", \"stator_windings\"])"
   ]
  },
  {
   "cell_type": "code",
   "execution_count": null,
   "metadata": {},
   "outputs": [],
   "source": [
    "out_femm.mag.meshsolution.plot_mesh(group_names=[\"stator\",  \"airgap\", \"/\", \"stator_windings\"])"
   ]
  },
  {
   "cell_type": "markdown",
   "metadata": {},
   "source": [
    "Then, the electromagnetic solution can be displayed:"
   ]
  },
  {
   "cell_type": "code",
   "execution_count": null,
   "metadata": {},
   "outputs": [],
   "source": [
    "out_femm.mag.meshsolution.plot_contour(label=\"B\")"
   ]
  },
  {
   "cell_type": "markdown",
   "metadata": {},
   "source": [
    " Moreover, the solution can be extracted on a specific area."
   ]
  },
  {
   "cell_type": "code",
   "execution_count": null,
   "metadata": {},
   "outputs": [],
   "source": [
    "out_femm.mag.meshsolution.plot_contour(label=\"H\", group_names=\"stator\")"
   ]
  },
  {
   "cell_type": "markdown",
   "metadata": {},
   "source": [
    "There is a method to plot solution as \"arrows\" (similar to the quiver method from matplotlib or matlab):"
   ]
  },
  {
   "cell_type": "code",
   "execution_count": null,
   "metadata": {
    "tags": []
   },
   "outputs": [],
   "source": [
    "out_femm.mag.meshsolution.plot_glyph(label=\"B\", group_names=\"stator\")"
   ]
  },
  {
   "cell_type": "markdown",
   "metadata": {},
   "source": [
    "## Extract and post-process data\n",
    "\n",
    "Several methods have been developed for the MeshSolution class in order to load the results regardless of the type of objects. For instance, I can extract the magnetic flux computed in every cells (triangles) of the magnetostatic mesh:"
   ]
  },
  {
   "cell_type": "code",
   "execution_count": null,
   "metadata": {},
   "outputs": [],
   "source": [
    "B = out_femm.mag.meshsolution.get_field(label='B')\n",
    "B.shape"
   ]
  },
  {
   "cell_type": "markdown",
   "metadata": {},
   "source": [
    "A new MeshSolution object can be created from the group definition. For example, the following magnetic flux density size has been reduce:"
   ]
  },
  {
   "cell_type": "code",
   "execution_count": null,
   "metadata": {},
   "outputs": [],
   "source": [
    "group_stator = out_femm.mag.meshsolution.get_group(\"stator\")\n",
    "B_s = group_stator.get_field(label='B')\n",
    "H_s = group_stator.get_field(label='H')\n",
    "B_s.shape"
   ]
  },
  {
   "cell_type": "markdown",
   "metadata": {},
   "source": [
    "Then, operations can be performed on the solution of this group, and plotted. It is worth noting that several type of Solution objects can co-exist in the same MeshSolution object."
   ]
  },
  {
   "cell_type": "code",
   "execution_count": null,
   "metadata": {},
   "outputs": [],
   "source": [
    "import numpy as np\n",
    "from pyleecan.Classes.SolutionMat import SolutionMat\n",
    "\n",
    "w_mag = np.multiply(B_s,H_s)/2\n",
    "\n",
    "w_axis = dict()\n",
    "w_axis[\"time\"] = B_s.shape[0]\n",
    "w_axis[\"indice\"] = B_s.shape[1]\n",
    "w_axis[\"component\"] = B_s.shape[2]\n",
    "\n",
    "my_vec_solution = SolutionMat(\n",
    "    label=\"w_mag\",\n",
    "    type_cell=\"triangle\",\n",
    "    field=w_mag,\n",
    "    axis=w_axis,\n",
    ")\n",
    "group_stator.solution.append(my_vec_solution)\n",
    "group_stator.plot_contour(label=\"w_mag\")"
   ]
  },
  {
   "cell_type": "markdown",
   "metadata": {},
   "source": [
    "Operations can also be performed on the mesh."
   ]
  },
  {
   "cell_type": "code",
   "execution_count": null,
   "metadata": {},
   "outputs": [],
   "source": [
    "nodes_s = group_stator.get_mesh().get_point()\n",
    "nodes_s.shape"
   ]
  },
  {
   "cell_type": "markdown",
   "metadata": {},
   "source": [
    "For example, a rotation the mesh:"
   ]
  },
  {
   "cell_type": "code",
   "execution_count": null,
   "metadata": {},
   "outputs": [],
   "source": [
    "th = np.pi\n",
    "R = np.array([[np.cos(th), -np.sin(th)], [np.sin(th), np.cos(th)]])\n",
    "nodes_s = np.dot(nodes_s, R)\n",
    "group_stator.mesh[0].point.coordinate = nodes_s\n",
    "group_stator.plot_mesh()"
   ]
  },
  {
   "cell_type": "markdown",
   "metadata": {},
   "source": [
    "Previous plot still work !"
   ]
  },
  {
   "cell_type": "code",
   "execution_count": null,
   "metadata": {},
   "outputs": [],
   "source": [
    "group_stator.plot_contour(label=\"w_mag\")"
   ]
  },
  {
   "cell_type": "markdown",
   "metadata": {},
   "source": [
    "# 3) Advanced Mesh and Solution definition"
   ]
  },
  {
   "cell_type": "markdown",
   "metadata": {},
   "source": [
    "## Defining yourself a Mesh object\n",
    "\n",
    "At the date of this webinar, there are two different types of Mesh objects: MeshMat and MeshVTK. \n",
    "- MeshMat object is designed to ease postprocessing. It enables access to important values (connectivity, nodes) and to defined interpolation methods. (numpy.array)\n",
    "- MeshVTK is designed to ease vizualization, by relying on existing librairy pyvista.\n",
    "\n",
    "The bridge between the two type of class is available with dedicated convert methods. "
   ]
  },
  {
   "cell_type": "markdown",
   "metadata": {},
   "source": [
    "### Defining a MeshMat object\n",
    "\n",
    "Although every features should be automatically initialized/defined in Pyleecan, we are going to define by hand some of the objects in order to introduce the basics principle of the MeshSolution module."
   ]
  },
  {
   "cell_type": "code",
   "execution_count": null,
   "metadata": {},
   "outputs": [],
   "source": [
    "from pyleecan.Classes.MeshMat import MeshMat\n",
    "from pyleecan.Classes.PointMat import PointMat\n",
    "from pyleecan.Classes.CellMat import CellMat\n",
    "from pyleecan.Classes.MeshSolution import MeshSolution\n",
    "\n",
    "mesh = MeshMat(dimension=3)\n",
    "mesh.point = PointMat()\n",
    "mesh.point.add_point([0, 0, 0])\n",
    "mesh.point.add_point([0, 1, 0])\n",
    "mesh.point.add_point([1, 0, 0])\n",
    "mesh.point.add_point([1, 1, 0])\n",
    "mesh.point.add_point([2, 1, 0])\n",
    "\n",
    "mesh.cell[\"triangle\"] = CellMat(nb_pt_per_cell=3)\n",
    "mesh.add_cell([0, 1, 2], \"triangle\")\n",
    "mesh.add_cell([1, 2, 3], \"triangle\")\n",
    "mesh.add_cell([2, 3, 4], \"triangle\")\n",
    "\n",
    "MSol = MeshSolution(mesh=[mesh])\n",
    "\n",
    "MSol.plot_mesh()"
   ]
  },
  {
   "cell_type": "markdown",
   "metadata": {},
   "source": [
    "## Defining a SolutionMat object and plot\n",
    "The MeshSolution object allows to make the link between data (such as FE results) and the corresponding mesh stored in a Mesh object. Thus, all the plot and post-processing methods should be available in the MeshSolution class.\n",
    "\n",
    "Today, the main post-processing are the plots (such as plot_contour and plot_glyph).\n",
    "\n",
    "Here is an example with plot_contour: a scalar field is defined by giving its values all points of the mesh. "
   ]
  },
  {
   "cell_type": "code",
   "execution_count": null,
   "metadata": {},
   "outputs": [],
   "source": [
    "import numpy as np\n",
    "from pyleecan.Classes.SolutionMat import SolutionMat\n",
    "\n",
    "axis_dct = dict()\n",
    "axis_dct[\"indice\"] = 5\n",
    "axis_dct[\"time\"] = 1\n",
    "field = np.array([[0,1,2,3,4]])\n",
    "\n",
    "my_solution = SolutionMat(\n",
    "    label=\"my_field\",\n",
    "    type_cell=\"point\",\n",
    "    field=field,\n",
    "    indice=[0, 1, 2, 3, 4],\n",
    "    axis=axis_dct,\n",
    ")\n",
    "MSol.solution.append(my_solution)\n",
    "MSol.plot_contour()"
   ]
  },
  {
   "cell_type": "markdown",
   "metadata": {},
   "source": [
    "The notion of axis allows to correctly extract values as it would be with SciDataTool objects -> same way to call methods in SolutionMat/SolutionData/SolutionVector. \n",
    "\n",
    "Using SolutionMat, one can also defined a vector field by using an additional axis \"component\"."
   ]
  },
  {
   "cell_type": "code",
   "execution_count": null,
   "metadata": {},
   "outputs": [],
   "source": [
    "new_axis_dct = dict()\n",
    "\n",
    "new_axis_dct[\"time\"] = 10\n",
    "new_axis_dct[\"indice\"] = 5\n",
    "new_axis_dct[\"component\"] = 2\n",
    "vector = np.ones((10,5,2))\n",
    "\n",
    "my_vec_solution = SolutionMat(\n",
    "    label=\"my_vector\",\n",
    "    type_cell=\"point\",\n",
    "    field=vector,\n",
    "    indice=[0, 1, 2, 3, 4], # optional today, but field size must match with the number of point/cell.\n",
    "    axis=new_axis_dct,\n",
    ")\n",
    "MSol.solution.append(my_vec_solution)\n",
    "MSol.plot_glyph(label=\"my_vector\", is_point_arrow=True, factor=1/10)"
   ]
  },
  {
   "cell_type": "markdown",
   "metadata": {},
   "source": [
    "In this example, a 2D field is defined on a 3D mesh. The mesh and the field has distinct \"dimension\" attributes. It allows us to limit the memory space when possible. \n",
    "\n",
    "In order to have more details about the intialization of SolutionData/SolutionVector objects, see SciDataTool part and build_meshsolution() method from MagFEMM. "
   ]
  },
  {
   "cell_type": "markdown",
   "metadata": {},
   "source": [
    "## Import an external Mesh\n",
    "\n",
    "First, we are going to generate a mesh with gmsh coupling."
   ]
  },
  {
   "cell_type": "code",
   "execution_count": null,
   "metadata": {},
   "outputs": [],
   "source": [
    "from pyleecan.Classes.LamSlotMulti import LamSlotMulti\n",
    "from pyleecan.Classes.SlotW10 import SlotW10\n",
    "from pyleecan.Classes.SlotW22 import SlotW22\n",
    "from pyleecan.Classes.NotchEvenDist import NotchEvenDist\n",
    "from pyleecan.Functions.GMSH.gen_3D_mesh import gen_3D_mesh\n",
    "\n",
    "import matplotlib.pyplot as plt\n",
    "\n",
    "from os import getcwd\n",
    "from os.path import join\n",
    "save_path = getcwd() # Get notebook directory\n",
    "\n",
    "# Rotor definition\n",
    "rotor = LamSlotMulti(\n",
    "    Rint=0.2, Rext=0.7, is_internal=True, is_stator=False, L1=0.9, Nrvd=2, Wrvd=0.05\n",
    ")\n",
    "\n",
    "# Reference Slot\n",
    "Zs = 8\n",
    "Slot1 = SlotW10(\n",
    "    Zs=Zs, W0=50e-3, H0=30e-3, W1=100e-3, H1=30e-3, H2=100e-3, W2=120e-3\n",
    ")\n",
    "Slot2 = SlotW22(Zs=Zs, W0=pi / 12, H0=50e-3, W2=pi / 6, H2=125e-3)\n",
    "\n",
    "# Reference slot are duplicated to get 4 of each in alternance\n",
    "slot_list = list()\n",
    "for ii in range(Zs // 2):\n",
    "    slot_list.append(SlotW10(init_dict=Slot1.as_dict()))\n",
    "    slot_list.append(SlotW22(init_dict=Slot2.as_dict()))\n",
    "rotor.slot_list = slot_list\n",
    "# Set slot position as linspace\n",
    "rotor.alpha = linspace(0, 2 * pi, 8, endpoint=False) + pi / Zs\n",
    "\n",
    "# Set evenly distributed notches\n",
    "slot3 = SlotW10(Zs=Zs // 2, W0=40e-3, W1=40e-3, W2=40e-3, H0=0, H1=0, H2=25e-3)\n",
    "notch = NotchEvenDist(notch_shape=slot3, alpha=2 * pi / Zs)\n",
    "rotor.notch = [notch]\n",
    "\n",
    "# Plot the lamination\n",
    "rotor.plot()\n",
    "\n",
    "# Generate the gmsh equivalent\n",
    "gen_3D_mesh(\n",
    "    lamination=rotor,\n",
    "    save_path=join(save_path, \"fig_11_gmsh_SlotMulti.msh\"),\n",
    "    sym=4,\n",
    "    mesh_size=20e-3,\n",
    "    Nlayer=20,\n",
    "    display=False,\n",
    ")"
   ]
  },
  {
   "cell_type": "markdown",
   "metadata": {},
   "source": [
    "Today, Pyleecan mainly relies on the meshio librairy to convert any type of mesh file into a .vtk which is readable by pyvista. Any contribution on this topic is welcome."
   ]
  },
  {
   "cell_type": "code",
   "execution_count": null,
   "metadata": {},
   "outputs": [],
   "source": [
    "#Convert to vtk with meshio\n",
    "import meshio\n",
    "m = meshio.Mesh.read(join(save_path, \"fig_11_gmsh_SlotMulti.msh\"))\n",
    "m.write('my_mesh.vtk')"
   ]
  },
  {
   "cell_type": "markdown",
   "metadata": {},
   "source": [
    "Finally, the .vtk file can be loaded with a MeshVTK object."
   ]
  },
  {
   "cell_type": "code",
   "execution_count": null,
   "metadata": {},
   "outputs": [],
   "source": [
    "# Import in Pyleecan with MeshVTK\n",
    "from pyleecan.Classes.MeshVTK import MeshVTK\n",
    "mesh_import = MeshVTK(\n",
    "    path=save_path,\n",
    "    name=\"my_mesh\",\n",
    ")\n",
    "MSol_import = MeshSolution(mesh=[mesh_import])\n",
    "MSol_import.plot_mesh()"
   ]
  },
  {
   "cell_type": "markdown",
   "metadata": {},
   "source": [
    "Thanks for following this tutorial ! :-)"
   ]
  }
 ],
 "metadata": {
  "celltoolbar": "Format de la Cellule Texte Brut",
  "kernelspec": {
   "display_name": "Python 3",
   "language": "python",
   "name": "python3"
  },
  "language_info": {
   "codemirror_mode": {
    "name": "ipython",
    "version": 3
   },
   "file_extension": ".py",
   "mimetype": "text/x-python",
   "name": "python",
   "nbconvert_exporter": "python",
   "pygments_lexer": "ipython3",
   "version": "3.8.3"
  }
 },
 "nbformat": 4,
 "nbformat_minor": 4
}
