{
 "cells": [
  {
   "cell_type": "markdown",
   "metadata": {},
   "source": [
    "# Webinar n°2: Pyleecan Advanced - Part 2: SciDataTool\n",
    "\n",
    "This notebook is the support of the second out of three webinars organized by the association [Green Forge Coop](https://www.linkedin.com/company/greenforgecoop/about/) \n",
    "\n",
    "The webinars schedule is:\n",
    "\n",
    "Speakers: \n",
    "\n",
    "This webinar will be recorded and the video will be shared on [pyleecan.org](https://pyleecan.org/tutorials.html)\n",
    "\n",
    "# Installation guidelines\n",
    "To use this notebook please:\n",
    "- Install Anaconda\n",
    "- In Anaconda Prompt run the command \"pip install pyleecan\"\n",
    "- Install the latest version of [femm](http://www.femm.info/wiki/Download) (windows only)\n",
    "- In Anaconda Navigator, lanch Jupyter Notebook\n",
    "- Jupyter Notebook should open a tab in your web brower, select this notebook to open it\n",
    "\n",
    "To check if everything is correctly set, please run the following cell.\n",
    "\n",
    "**WARNING**: this file is an archive, the webinar used pyleecan X.Y.Z and SciDataTool X.Y.Z"
   ]
  },
  {
   "cell_type": "code",
   "execution_count": null,
   "metadata": {},
   "outputs": [],
   "source": [
    "%matplotlib notebook\n",
    "from datetime import date\n",
    "print(\"Running date:\", date.today().strftime(\"%B %d, %Y\"))\n",
    "import pyleecan\n",
    "print(\"Pyleecan version:\" + pyleecan.__version__)\n",
    "import SciDataTool\n",
    "print(\"SciDataTool version:\" + SciDataTool.__version__)\n",
    "\n",
    "# Load the machine\n",
    "from os.path import join\n",
    "from pyleecan.Functions.load import load\n",
    "from pyleecan.definitions import DATA_DIR\n",
    "\n",
    "Toyota_Prius = load(join(DATA_DIR, \"Machine\", \"Toyota_Prius.json\"))\n",
    "Toyota_Prius.plot()\n",
    "\n",
    "# Check FEMM installation\n",
    "from pyleecan.Classes._FEMMHandler import _FEMMHandler\n",
    "\n",
    "femm = _FEMMHandler()\n",
    "femm.openfemm(0)\n",
    "femm.closefemm()"
   ]
  },
  {
   "cell_type": "code",
   "execution_count": null,
   "metadata": {},
   "outputs": [],
   "source": [
    "import numpy as np\n",
    "import matplotlib.pyplot as plt\n",
    "import mpl_toolkits.mplot3d.art3d as art3d"
   ]
  },
  {
   "cell_type": "markdown",
   "metadata": {},
   "source": [
    "## 1) Pyleecan simulation\n",
    "\n",
    "To demonstrate the capabilities and the use of the SciDataTool objects, two simulations are launched with FEMM: with imposed currents and in open-circuit. The simulations use periodicity and parallelization to reduce execution time."
   ]
  },
  {
   "cell_type": "code",
   "execution_count": null,
   "metadata": {},
   "outputs": [],
   "source": [
    "from os import chdir\n",
    "chdir('..')\n",
    "\n",
    "# Import Pyleecan modules\n",
    "from numpy import exp, sqrt, pi\n",
    "from os.path import join\n",
    "from pyleecan.Classes.Simu1 import Simu1\n",
    "from pyleecan.Classes.InputCurrent import InputCurrent\n",
    "from pyleecan.Classes.MagFEMM import MagFEMM\n",
    "from pyleecan.Classes.ForceMT import ForceMT\n",
    "from pyleecan.Classes.Output import Output\n",
    "from pyleecan.Functions.load import load\n",
    "from pyleecan.definitions import DATA_DIR\n",
    "\n",
    "# Load the machine\n",
    "Toyota_Prius = load(join(DATA_DIR, \"Machine\", \"Toyota_Prius.json\"))\n",
    "\n",
    "# Simulation initialization\n",
    "simu = Simu1(name=\"FEMM_periodicity\", machine=Toyota_Prius)\n",
    "\n",
    "# Definition of the enforced output of the electrical module\n",
    "simu.input = InputCurrent(\n",
    "    Na_tot=252 * 8,\n",
    "    Nt_tot=50 * 8,\n",
    "    N0=1000,\n",
    ")\n",
    "# Set Id/Iq according to I0/Phi0\n",
    "simu.input.set_Id_Iq(I0=250 / sqrt(2), Phi0=140*pi/180)\n",
    "\n",
    "# Definition of the magnetic simulation: with periodicity\n",
    "simu.mag = MagFEMM(is_periodicity_a=True, is_periodicity_t=True, nb_worker=4)\n",
    "simu.force = ForceMT(is_periodicity_a=True, is_periodicity_t=True)\n",
    "\n",
    "# Definition of the open-circuit simulation\n",
    "simu2 = simu.copy()\n",
    "simu2.input.Id_ref = 0\n",
    "simu2.input.Iq_ref = 0\n",
    "\n",
    "# Run simulations\n",
    "out = simu.run()\n",
    "out2 = simu2.run()"
   ]
  },
  {
   "cell_type": "markdown",
   "metadata": {},
   "source": [
    "## 2) How to extract data\n",
    "\n",
    "Many output data are stored in **SciDataTool** formats. Here, we take for example the torque, for which the periodic part is stored along with its time axis.\n",
    "\n",
    "To access data stored in **SciDataTool** objects, we use `get_along` methods as seen previously:"
   ]
  },
  {
   "cell_type": "code",
   "execution_count": null,
   "metadata": {},
   "outputs": [],
   "source": [
    "print(out.mag.Tem.get_along(\"time\"))"
   ]
  },
  {
   "cell_type": "markdown",
   "metadata": {},
   "source": [
    "By default, the method reconstructs the whole periodic signal. To extract only the periodic part, which can be useful in computations, use `oneperiod`, `antiperiod` or `smallestperiod`:"
   ]
  },
  {
   "cell_type": "code",
   "execution_count": null,
   "metadata": {},
   "outputs": [],
   "source": [
    "print(out.mag.Tem.get_along(\"time[smallestperiod]\"))"
   ]
  },
  {
   "cell_type": "markdown",
   "metadata": {},
   "source": [
    "## 3) How to plot data\n",
    "\n",
    "**Pyleecan** has generic built-in plot commands, which allow to easily plot any field stored in a **SciDataTool** object:\n",
    "\n",
    "- `plot_2D`, `plot_3D`, `plot_4D`: plot functions which take lists or arrays, labels, titles, etc, to unify the plot formatting\n",
    "- `plot_2D_Data` and `plot_3D_Data`: plot methods (of the *Output* object) and functions which take **SciDataTool** objects to automatically build titles, labels, etc.\n",
    "\n",
    "The plot commands use the same syntax as the `get_along` methods:"
   ]
  },
  {
   "cell_type": "code",
   "execution_count": null,
   "metadata": {},
   "outputs": [],
   "source": [
    "%matplotlib notebook\n",
    "out.mag.Tem.plot_2D_Data(\"time\")"
   ]
  },
  {
   "cell_type": "markdown",
   "metadata": {},
   "source": [
    "To plot only one period or anti-period:"
   ]
  },
  {
   "cell_type": "code",
   "execution_count": null,
   "metadata": {},
   "outputs": [],
   "source": [
    "out.mag.Tem.plot_2D_Data(\"time[smallestperiod]\")"
   ]
  },
  {
   "cell_type": "markdown",
   "metadata": {},
   "source": [
    "**pyleecan** also has `VectorField` objects for fields with several components, such as the air-gap flux density **B**. The plot command allows to plot all components:"
   ]
  },
  {
   "cell_type": "code",
   "execution_count": null,
   "metadata": {},
   "outputs": [],
   "source": [
    "out.mag.B.plot_2D_Data(\"time\")"
   ]
  },
  {
   "cell_type": "markdown",
   "metadata": {},
   "source": [
    "To plot only one or several specific components, one can use the `component_list` parameter:"
   ]
  },
  {
   "cell_type": "code",
   "execution_count": null,
   "metadata": {},
   "outputs": [],
   "source": [
    "out.mag.B.plot_2D_Data(\"time\", component_list=[\"radial\"])"
   ]
  },
  {
   "cell_type": "markdown",
   "metadata": {},
   "source": [
    "## 4) How to slice data\n",
    "\n",
    "**SciDataTool** also allows to slice along a specific axis, and for specific indices or values. The same feature is also available in the plot commands.\n",
    "\n",
    "For example, in the last plot, $B_r$ was sliced at `angle[0]` (slice by default), but we could want to slice at another angle:"
   ]
  },
  {
   "cell_type": "code",
   "execution_count": null,
   "metadata": {},
   "outputs": [],
   "source": [
    "out.mag.B.plot_2D_Data(\"time\", \"angle=pi/6\", component_list=[\"radial\"])"
   ]
  },
  {
   "cell_type": "markdown",
   "metadata": {},
   "source": [
    "We can even superimpose several slices:"
   ]
  },
  {
   "cell_type": "code",
   "execution_count": null,
   "metadata": {},
   "outputs": [],
   "source": [
    "out.mag.B.plot_2D_Data(\"time\", \"angle[0,10,20]\", component_list=[\"radial\"])"
   ]
  },
  {
   "cell_type": "markdown",
   "metadata": {},
   "source": [
    "## 5) How to compute and plot Fourier Transforms\n",
    "\n",
    "One of the main interest of **SciDataTool** is to hide the complexity of Fourier Transforms. To demonstrate this feature, let us try to compute and plot the fft of the torque manually, and then using **SciDataTool** methods.\n",
    "\n",
    "- manually:"
   ]
  },
  {
   "cell_type": "code",
   "execution_count": null,
   "metadata": {},
   "outputs": [],
   "source": [
    "# Extract raw data\n",
    "Tem_raw = out.mag.Tem.values\n",
    "t0 = out.mag.Time.initial\n",
    "tf = out.mag.Time.final\n",
    "Nt_tot = out.mag.Time.number\n",
    "\n",
    "# Reconstruct data\n",
    "time_vector = np.linspace(t0, tf, Nt_tot, endpoint=False)\n",
    "Tem_array = np.tile(Tem_raw, 8)\n",
    "\n",
    "# Compute fft\n",
    "Tem_FT = np.fft.fft(Tem_array)\n",
    "Tem_FT[0] = Tem_FT[0] * 0.5\n",
    "Tem_FT = 2 * np.fft.fftshift(Tem_FT) / Nt_tot\n",
    "Tem_FT_mag = np.abs(Tem_FT)\n",
    "\n",
    "# Compute freqs\n",
    "timestep = float(time_vector[1] - time_vector[0])  # Sample step\n",
    "fsampt = 1.0 / timestep  # Sample frequency\n",
    "freqscale = Nt_tot / fsampt\n",
    "freqs = [i - int(Nt_tot / 2) for i in range(int(Nt_tot))]\n",
    "freqs = np.array([i / freqscale for i in freqs])\n",
    "\n",
    "# Plot results\n",
    "from SciDataTool.Functions.Plot.plot_2D import plot_2D\n",
    "%matplotlib notebook\n",
    "plot_2D([freqs], [Tem_FT_mag], type_plot=\"bargraph\", x_min=-50, x_max=1000)"
   ]
  },
  {
   "cell_type": "markdown",
   "metadata": {},
   "source": [
    "- using **SciDataTool** methods and **pyleecan** plot commands:"
   ]
  },
  {
   "cell_type": "code",
   "execution_count": null,
   "metadata": {},
   "outputs": [],
   "source": [
    "# Equivalent process using SciDataTool\n",
    "print(out.mag.Tem.get_magnitude_along(\"freqs=[0,1000]\"))\n",
    "\n",
    "# Plot using generic plot command\n",
    "out.mag.Tem.plot_2D_Data(\"freqs=[0,1000]\")"
   ]
  },
  {
   "cell_type": "markdown",
   "metadata": {},
   "source": [
    "In the case of spatial Fourier Transform, the fundamental is automatically detected from the machine data:"
   ]
  },
  {
   "cell_type": "code",
   "execution_count": null,
   "metadata": {},
   "outputs": [],
   "source": [
    "out.mag.B.plot_2D_Data(\"wavenumber=[0,100]\", component_list=[\"radial\"])"
   ]
  },
  {
   "cell_type": "markdown",
   "metadata": {},
   "source": [
    "## 6) How to convert or normalize data\n",
    "\n",
    "Another interesting feature of **SciDataTool** is the conversion feature: **SciDataTool** has built-in methods to convert units, and normalize fields and axes.\n",
    "\n",
    "For example, we can plot the torque fft in electrical orders:"
   ]
  },
  {
   "cell_type": "code",
   "execution_count": null,
   "metadata": {
    "scrolled": true
   },
   "outputs": [],
   "source": [
    "out.mag.Tem.plot_2D_Data(\"freqs->elec_order=[0,10]\")"
   ]
  },
  {
   "cell_type": "markdown",
   "metadata": {},
   "source": [
    "In the following example, we will convert the stator winding flux from Webers into Maxwells ($1$ Wb = $10^8$ Mx):"
   ]
  },
  {
   "cell_type": "code",
   "execution_count": null,
   "metadata": {},
   "outputs": [],
   "source": [
    "out.mag.Phi_wind_stator.plot_2D_Data(\"time\", \"phase\")"
   ]
  },
  {
   "cell_type": "code",
   "execution_count": null,
   "metadata": {},
   "outputs": [],
   "source": [
    "out.mag.Phi_wind_stator.plot_2D_Data(\"time\", \"phase\", unit=\"Mx\")"
   ]
  },
  {
   "cell_type": "markdown",
   "metadata": {},
   "source": [
    "In this last example, we will convert the angle axis into degrees and for the air-gap flux density from Teslas into Gauss ($1$ T= $10^4$ G)"
   ]
  },
  {
   "cell_type": "code",
   "execution_count": null,
   "metadata": {},
   "outputs": [],
   "source": [
    "out.mag.B.plot_2D_Data(\"angle\", component_list=[\"radial\"])"
   ]
  },
  {
   "cell_type": "code",
   "execution_count": null,
   "metadata": {},
   "outputs": [],
   "source": [
    "out.mag.B.plot_2D_Data(\"angle{°}\", component_list=[\"radial\"], unit=\"G\")"
   ]
  },
  {
   "cell_type": "markdown",
   "metadata": {},
   "source": [
    "The angle can also be converted into distance:"
   ]
  },
  {
   "cell_type": "code",
   "execution_count": null,
   "metadata": {},
   "outputs": [],
   "source": [
    "out.mag.B.plot_2D_Data(\"angle->distance\", component_list=[\"radial\"])"
   ]
  },
  {
   "cell_type": "markdown",
   "metadata": {},
   "source": [
    "## 7) How to compare data\n",
    "\n",
    "**SciDataTool** also allows to compare several fields, even if they are defined on different discretizations. To do so, **SciDataTool** has `compare_along` methods, and **pyleecan** plot commands have a `data_list` parameter.\n",
    "\n",
    "In the folowing example, we compare the torque from the reference simulation, and from the open-circuit one:"
   ]
  },
  {
   "cell_type": "code",
   "execution_count": null,
   "metadata": {},
   "outputs": [],
   "source": [
    "out.mag.B.plot_2D_Data(\n",
    "    \"time\", component_list=[\"radial\"], data_list=[out2.mag.B], legend_list=[\"Reference\", \"Open-circuit\"]\n",
    ")"
   ]
  },
  {
   "cell_type": "markdown",
   "metadata": {},
   "source": [
    "We can also compare fft:"
   ]
  },
  {
   "cell_type": "code",
   "execution_count": null,
   "metadata": {},
   "outputs": [],
   "source": [
    "out.mag.B.plot_2D_Data(\n",
    "    \"freqs=[0,1000]\", component_list=[\"radial\"], data_list=[out2.mag.B], legend_list=[\"Reference\", \"Open-circuit\"]\n",
    ")"
   ]
  },
  {
   "cell_type": "markdown",
   "metadata": {},
   "source": [
    "## 8) 3D plots\n",
    "\n",
    "3D plots (for data defined on at least two axes) can also be created using the `plot_3D_Data` command:"
   ]
  },
  {
   "cell_type": "code",
   "execution_count": null,
   "metadata": {},
   "outputs": [],
   "source": [
    "out.mag.B.plot_3D_Data(\"time\", \"angle{°}\", component_list=[\"radial\"])"
   ]
  },
  {
   "cell_type": "markdown",
   "metadata": {},
   "source": [
    "To visualize this surface from above, use `is_2D_view`:"
   ]
  },
  {
   "cell_type": "code",
   "execution_count": null,
   "metadata": {},
   "outputs": [],
   "source": [
    "out.mag.B.plot_3D_Data(\"time\", \"angle{°}\", component_list=[\"radial\"], is_2D_view=True)"
   ]
  },
  {
   "cell_type": "markdown",
   "metadata": {},
   "source": [
    "The field is automatically reconstructed using the periodicities specified in the simulation. It is always possible to plot a single period:"
   ]
  },
  {
   "cell_type": "code",
   "execution_count": null,
   "metadata": {},
   "outputs": [],
   "source": [
    "out.mag.B.plot_3D_Data(\"time[smallestperiod]\", \"angle[smallestperiod]{°}\", component_list=[\"radial\"], is_2D_view=True)"
   ]
  },
  {
   "cell_type": "markdown",
   "metadata": {},
   "source": [
    "2D Fourier Transforms also rely on `plot_3D_Data` command:"
   ]
  },
  {
   "cell_type": "code",
   "execution_count": null,
   "metadata": {},
   "outputs": [],
   "source": [
    "out.mag.B.plot_3D_Data(\n",
    "    \"freqs->elec_order=[0,10]\", \"wavenumber->space_order\", N_stem=50, component_list=[\"radial\"]\n",
    ")"
   ]
  },
  {
   "cell_type": "markdown",
   "metadata": {},
   "source": [
    "It can also be viewed in 2D:"
   ]
  },
  {
   "cell_type": "code",
   "execution_count": null,
   "metadata": {},
   "outputs": [],
   "source": [
    "out.mag.B.plot_3D_Data(\"freqs=[0,1000]\", \"wavenumber=[-50,50]\", component_list=[\"radial\"], is_2D_view=True)"
   ]
  },
  {
   "cell_type": "markdown",
   "metadata": {},
   "source": [
    "All these plots were made using the magnetic flux density, but they are of course applicable to any 2D output data, like the force computed using the Maxwell Stress Tensor:"
   ]
  },
  {
   "cell_type": "code",
   "execution_count": null,
   "metadata": {},
   "outputs": [],
   "source": [
    "out.force.AGSF.plot_3D_Data(\"freqs=[0,1000]\", \"wavenumber=[-50,50]\", component_list=[\"radial\"], is_2D_view=True)"
   ]
  },
  {
   "cell_type": "code",
   "execution_count": null,
   "metadata": {},
   "outputs": [],
   "source": []
  }
 ],
 "metadata": {
  "kernelspec": {
   "display_name": "Python 3",
   "language": "python",
   "name": "python3"
  },
  "language_info": {
   "codemirror_mode": {
    "name": "ipython",
    "version": 3
   },
   "file_extension": ".py",
   "mimetype": "text/x-python",
   "name": "python",
   "nbconvert_exporter": "python",
   "pygments_lexer": "ipython3",
   "version": "3.8.6"
  }
 },
 "nbformat": 4,
 "nbformat_minor": 4
}
