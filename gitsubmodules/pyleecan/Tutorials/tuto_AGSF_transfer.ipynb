{
 "cells": [
  {
   "cell_type": "markdown",
   "metadata": {},
   "source": [
    "# Version information"
   ]
  },
  {
   "cell_type": "code",
   "execution_count": null,
   "metadata": {},
   "outputs": [],
   "source": [
    "from datetime import date\n",
    "print(\"Running date:\", date.today().strftime(\"%B %d, %Y\"))\n",
    "import pyleecan\n",
    "print(\"Pyleecan version:\" + pyleecan.__version__)\n",
    "import SciDataTool\n",
    "print(\"SciDataTool version:\" + SciDataTool.__version__)"
   ]
  },
  {
   "cell_type": "markdown",
   "metadata": {},
   "source": [
    "# Analytical Air-Gap Surface Force Transfer\n",
    "One of the main method to compute magnetic forces in electrical machine for vibroacoustic study is the Air-gap Surface Force (AGSF) method based on the Maxwell Stress Tensor (MST). The idea is to compute an equivalent magnetic pressure in the air-gap. However, there are two contradictory issue to take into account: \n",
    "- The magneto-static finite element solution contains minimal numerical error in the middle of the air-gap. \n",
    "- However, the theoretical application of the MST should be more accurate on the stator bore radius. \n",
    "\n",
    "To solve this issue, it is proposed to compute the AGSF at stator bore radius from the AGSF compute in the middle of the air-gap. It is based on the following scientific article: [PILE, Raphaël, LE BESNERAIS, Jean, PARENT, Guillaume, et al. Analytical study of air-gap surface force–application to electrical machines. Open Physics, 2020, vol. 18, no 1, p. 658-673.](https://www.degruyter.com/view/journals/phys/18/1/article-p658.xml)\n",
    "\n",
    "This tutorial explains how to use the feature of Air-Gap Surface Force (AGSF) transfer in Pyleecan, and presents some numerical application for an SPMSM electrical machine. \n",
    "\n",
    "The notebook related to this tutorial is available on [GitHub](https://github.com/Eomys/pyleecan/tree/master/Tutorials/tuto_AGSF_transfer.ipynb)."
   ]
  },
  {
   "cell_type": "markdown",
   "metadata": {},
   "source": [
    "## Import Pyleecan modules and machine definition"
   ]
  },
  {
   "cell_type": "code",
   "execution_count": null,
   "metadata": {},
   "outputs": [],
   "source": [
    "import pytest\n",
    "from os.path import join\n",
    "from pyleecan.Classes.ForceMT import ForceMT\n",
    "from pyleecan.Classes.Simu1 import Simu1\n",
    "from pyleecan.Classes.MagFEMM import MagFEMM\n",
    "from pyleecan.Classes.InputCurrent import InputCurrent\n",
    "from pyleecan.Functions.load import load\n",
    "from pyleecan.definitions import DATA_DIR\n",
    "from Tests import save_validation_path as save_path"
   ]
  },
  {
   "cell_type": "code",
   "execution_count": null,
   "metadata": {},
   "outputs": [],
   "source": [
    "%matplotlib notebook\n",
    "# Load machine\n",
    "Benchmark = load(join(DATA_DIR, \"Machine\", \"Benchmark.json\"))\n",
    "Benchmark.plot()"
   ]
  },
  {
   "cell_type": "markdown",
   "metadata": {},
   "source": [
    "## Simulation definition\n",
    "The electromagnetic field is solved in a 2D magnetostatic simulation using FEMM software. The time dependancy is not considered in the following demonstration to lighten calculations. "
   ]
  },
  {
   "cell_type": "code",
   "execution_count": null,
   "metadata": {},
   "outputs": [],
   "source": [
    "# Prepare simulation\n",
    "simu = Simu1(name=\"AC_IPMSM_plot\", machine=Benchmark)\n",
    "\n",
    "simu.input = InputCurrent(\n",
    "    Id_ref=0, Iq_ref=0, Ir=None, Na_tot=5 * 2 ** 8, Nt_tot=2, N0=1200\n",
    ")\n",
    "\n",
    "# Configure simulation\n",
    "simu.elec = None\n",
    "\n",
    "simu.force = ForceMT()\n",
    "\n",
    "simu.mag = MagFEMM(\n",
    "    is_periodicity_a=False,\n",
    "    is_periodicity_t=False,\n",
    "    is_sliding_band=False,\n",
    "    Kmesh_fineness=4,\n",
    "    type_BH_rotor=1,\n",
    "    type_BH_stator=1,    \n",
    ")\n",
    "\n",
    "simu2 = simu.copy()\n",
    "simu2.force.is_agsf_transfer=True\n",
    "simu2.force.max_wavenumber_transfer = 70"
   ]
  },
  {
   "cell_type": "markdown",
   "metadata": {},
   "source": [
    "## Validation of the AGSF transfer law at 90% of the air-gap\n",
    "The air-gap is the area between the rotor bore radius (Rrbo) and the stator bore radius (Rsbo). The classic application of Maxwell stress tensor to compute AGSF is performed in the middle of the airgap (K=50%).\n",
    "\n",
    "The next cell can be modified to perform several simulation with different radius of calculation for AGSF."
   ]
  },
  {
   "cell_type": "code",
   "execution_count": null,
   "metadata": {},
   "outputs": [],
   "source": [
    "# Tests at 90% of the air-gap (this list can be modified to add other cases)\n",
    "K = [90]"
   ]
  },
  {
   "cell_type": "markdown",
   "metadata": {},
   "source": [
    "Now, the loop on simulation can be performed. For each values in K, the AGSF is either:\n",
    "- Directly extracted at the desired radius \n",
    "- or calculated from the knowledge of AGSF at K=50% using the transfer law."
   ]
  },
  {
   "cell_type": "code",
   "execution_count": null,
   "metadata": {},
   "outputs": [],
   "source": [
    "Rsbo = 0.0480\n",
    "Rrbo = 0.0450\n",
    "\n",
    "Nk = len(K)\n",
    "\n",
    "simu_list = list()\n",
    "simu_list2 = list()\n",
    "\n",
    "out_list = list()\n",
    "out_list2 = list()\n",
    "\n",
    "AGSF_list = list()\n",
    "AGSF_list2 = list()\n",
    "\n",
    "legend_list = list()\n",
    "legend_list2 = list()\n",
    "\n",
    "for ik in range(Nk):\n",
    "    k = K[ik]\n",
    "    Rag = (Rsbo - Rrbo) * k / 100 + Rrbo\n",
    "    \n",
    "    # Simu with is_agsf_transfer=False\n",
    "    simu_list.append(simu.copy())\n",
    "    simu_list[ik].mag.Rag_enforced = Rag\n",
    "    out_list.append(simu_list[ik].run())\n",
    "    legend_list.append(str(k) + \"%\")\n",
    "    AGSF_list.append(out_list[ik].force.AGSF)\n",
    "    \n",
    "    # Simu2 with is_agsf_transfer=True\n",
    "    simu_list2.append(simu2.copy())\n",
    "    simu_list2[ik].force.Rsbo_enforced_transfer = Rag\n",
    "    out_list2.append(simu_list2[ik].run())\n",
    "    legend_list2.append(str(k) + \"%\")\n",
    "    AGSF_list2.append(out_list2[ik].force.AGSF)"
   ]
  },
  {
   "cell_type": "markdown",
   "metadata": {},
   "source": [
    "The results can be plotted to check the validity of the AGSF transfer law. For example, at 90% of the air-gap, there is a very good match between the transfer application and the direct method:"
   ]
  },
  {
   "cell_type": "code",
   "execution_count": null,
   "metadata": {},
   "outputs": [],
   "source": [
    "from pyleecan.Functions.Plot import dict_2D\n",
    "ik = 0\n",
    "out_list[ik].force.AGSF.plot_2D_Data(\n",
    "    \"wavenumber=[0,22]\",\n",
    "    \"freqs=0\", #equivalent to time=0 in this case\n",
    "    data_list=[AGSF_list2[ik]],\n",
    "    legend_list=[\"Direct\", \"Transfer\"],\n",
    "    is_show_fig=True,\n",
    "    **dict_2D\n",
    ")"
   ]
  },
  {
   "cell_type": "markdown",
   "metadata": {},
   "source": [
    "## Demonstration of the accuracy improvement at 99% of the air-gap\n",
    "The AGSF transfer results are compared to 2 different simulations in order to show the benefits in term of accuracy:\n",
    "- A simulation with a coarse mesh, which is also used as input for the AGSF transfer\n",
    "- and a simulation with a fine mesh which is the reference.\n",
    "\n",
    "For all simulations, the compared output is the AGSF at 99% of the air-gap radius. \n"
   ]
  },
  {
   "cell_type": "code",
   "execution_count": null,
   "metadata": {},
   "outputs": [],
   "source": [
    "Rs = (Rsbo - Rrbo) * 99 / 100 + Rrbo\n",
    "\n",
    "simu2 = simu.copy()\n",
    "simu2.force.is_agsf_transfer = True\n",
    "simu2.force.Rsbo_enforced_transfer = Rs\n",
    "simu2.force.max_wavenumber_transfer = 100\n",
    "\n",
    "out2 = simu2.run()\n",
    "\n",
    "# Enforced Rag for ref\n",
    "simu.mag.Rag_enforced = Rs\n",
    "out = simu.run()\n",
    "\n",
    "# Simu with low finesness\n",
    "simu3 = simu.copy()\n",
    "simu3.mag.Kmesh_fineness = 1\n",
    "out3 = simu3.run()"
   ]
  },
  {
   "cell_type": "markdown",
   "metadata": {},
   "source": [
    "The comparison is performed in the plot below. This significative results are observed in the tangential direction. The improvement can be observed since the AGSF computed with transfer law from the coarse mesh is more accurate on most wavenumbers with respect to the fine mesh. "
   ]
  },
  {
   "cell_type": "code",
   "execution_count": null,
   "metadata": {},
   "outputs": [],
   "source": [
    "AGSF_list = list()\n",
    "AGSF_list.append(out2.force.AGSF)\n",
    "AGSF_list.append(out3.force.AGSF)\n",
    "legend_list = [\"Fine Mesh\", \"Transfert based on Coarse Mesh\", \"Coarse Mesh\"]\n",
    "\n",
    "out.force.AGSF.plot_2D_Data(\n",
    "    \"wavenumber=[0,22]\",\n",
    "    \"freqs=0\", #equivalent to time=0 in this case\n",
    "    data_list=AGSF_list,\n",
    "    legend_list=legend_list,\n",
    "    is_show_fig=True,\n",
    "    **dict_2D\n",
    ")"
   ]
  },
  {
   "cell_type": "markdown",
   "metadata": {},
   "source": [
    "The discrepancies become more and more significative when high wavenumbers are considered. "
   ]
  },
  {
   "cell_type": "code",
   "execution_count": null,
   "metadata": {},
   "outputs": [],
   "source": [
    "out.force.AGSF.plot_2D_Data(\n",
    "    \"wavenumber=[0,100]\",\n",
    "    \"freqs=0\", #equivalent to time=0 in this case\n",
    "    data_list=AGSF_list,\n",
    "    legend_list=legend_list,\n",
    "    is_show_fig=True,\n",
    "    is_auto_ticks = False,\n",
    "    **dict_2D\n",
    ")"
   ]
  },
  {
   "cell_type": "code",
   "execution_count": null,
   "metadata": {},
   "outputs": [],
   "source": []
  }
 ],
 "metadata": {
  "celltoolbar": "Format de la Cellule Texte Brut",
  "kernelspec": {
   "display_name": "Python 3",
   "language": "python",
   "name": "python3"
  },
  "language_info": {
   "codemirror_mode": {
    "name": "ipython",
    "version": 3
   },
   "file_extension": ".py",
   "mimetype": "text/x-python",
   "name": "python",
   "nbconvert_exporter": "python",
   "pygments_lexer": "ipython3",
   "version": "3.8.6"
  }
 },
 "nbformat": 4,
 "nbformat_minor": 4
}
