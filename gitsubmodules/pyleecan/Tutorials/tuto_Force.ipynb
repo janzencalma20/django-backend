{
 "cells": [
  {
   "cell_type": "markdown",
   "metadata": {},
   "source": [
    "# Version information"
   ]
  },
  {
   "cell_type": "code",
   "execution_count": null,
   "metadata": {},
   "outputs": [],
   "source": [
    "from datetime import date\n",
    "print(\"Running date:\", date.today().strftime(\"%B %d, %Y\"))\n",
    "import pyleecan\n",
    "print(\"Pyleecan version:\" + pyleecan.__version__)\n",
    "import SciDataTool\n",
    "print(\"SciDataTool version:\" + SciDataTool.__version__)"
   ]
  },
  {
   "cell_type": "markdown",
   "metadata": {},
   "source": [
    "# How to compute magnetic forces using Force Module\n",
    "\n",
    "This tutorial shows the different steps to **compute magnetic forces** with pyleecan.\n",
    " \n",
    "The notebook related to this tutorial is available on [GitHub](https://github.com/Eomys/pyleecan/tree/master/Tutorials/tuto_Force.ipynb).\n",
    "\n",
    "To demonstrate the capabilities and the use of the SciDataTool objects, a simulation is launched with FEMM, with imposed currents, using periodicity and parallelization to reduce execution time."
   ]
  },
  {
   "cell_type": "code",
   "execution_count": null,
   "metadata": {
    "tags": []
   },
   "outputs": [],
   "source": [
    "from numpy import exp, sqrt, pi\n",
    "from os.path import join\n",
    "from pyleecan.Classes.Simu1 import Simu1\n",
    "from pyleecan.Classes.InputCurrent import InputCurrent\n",
    "from pyleecan.Classes.MagFEMM import MagFEMM\n",
    "from pyleecan.Classes.ForceMT import ForceMT\n",
    "from pyleecan.Classes.Output import Output\n",
    "from pyleecan.Functions.load import load\n",
    "from pyleecan.definitions import DATA_DIR\n",
    "\n",
    "# Load the machine\n",
    "Toyota_Prius = load(join(DATA_DIR, \"Machine\", \"Toyota_Prius.json\"))\n",
    "\n",
    "# Simulation initialization\n",
    "simu = Simu1(name=\"FEMM_periodicity\", machine=Toyota_Prius)\n",
    "\n",
    "# Definition of the enforced output of the electrical module\n",
    "simu.input = InputCurrent(\n",
    "    Na_tot=252 * 8,\n",
    "    Nt_tot=50 * 8,\n",
    "    N0=1000,\n",
    ")\n",
    "# Set Id/Iq according to I0/Phi0\n",
    "simu.input.set_Id_Iq(I0=250 / sqrt(2), Phi0=140*pi/180)\n",
    "\n",
    "# Definition of the magnetic simulation: with periodicity\n",
    "simu.mag = MagFEMM(is_periodicity_a=True, is_periodicity_t=True, nb_worker=4)\n",
    "simu.force = ForceMT(is_periodicity_a=True, is_periodicity_t=True)\n",
    "\n",
    "# Run simulations\n",
    "out = simu.run()"
   ]
  },
  {
   "cell_type": "markdown",
   "metadata": {},
   "source": [
    "## Force Module\n",
    "The Force abstract class will make it possible to define different ways of calculating forces. \n",
    "\n",
    "The ForceMT class inherits from Force class. ForceMT is dedicated to the computation of air-gap surface force based on the Maxwell stress tensor \\[[source](https://eomys.com/IMG/pdf/comparison-main-magnetic.pdf)\\]. \n",
    "\n",
    "Here, we get the results from a magnetic simulation without any force calculation. The Force module is initialized and run alone. "
   ]
  },
  {
   "cell_type": "code",
   "execution_count": null,
   "metadata": {},
   "outputs": [],
   "source": [
    "from pyleecan.Classes.Simu1 import Simu1\n",
    "from pyleecan.Classes.ForceMT import ForceMT\n",
    "\n",
    "# Create the Simulation\n",
    "mySimu = Simu1(name=\"Tuto_Force\")  \n",
    "mySimu.parent = out\n",
    "mySimu.force = ForceMT()\n",
    "\n",
    "# Run only the force module\n",
    "mySimu.force.run()"
   ]
  },
  {
   "cell_type": "markdown",
   "metadata": {},
   "source": [
    "Once the simulation is finished, the results are stored in the force part of the output (i.e. _myResults.force_ ) and we can call different plots. This object contains:   \n",
    "- *Time*: Time axe\n",
    "- *Angle*: Angular position axe   \n",
    "- *AGSF*: Airgap surface force (Radial and Tangential component)\n",
    "    \n",
    "**Output** object embbed different plot to visualize results easily. You can find a dedicated tutorial [here](https://www.pyleecan.org/tuto_Plots.html).\n",
    "\n",
    "Here are some example of useful plots."
   ]
  },
  {
   "cell_type": "code",
   "execution_count": null,
   "metadata": {},
   "outputs": [],
   "source": [
    "%matplotlib notebook\n",
    "from pyleecan.Functions.Plot import dict_2D, dict_3D\n",
    "out.force.AGSF.plot_2D_Data(\"angle{°}\", **dict_2D)\n",
    "out.force.AGSF.plot_2D_Data(\"wavenumber=[0,78]\", **dict_2D)"
   ]
  },
  {
   "cell_type": "code",
   "execution_count": null,
   "metadata": {},
   "outputs": [],
   "source": [
    "from numpy import pi\n",
    "\n",
    "#------------------------------------------------------\n",
    "# Plot the air-gap force as a function of time with the time fft\n",
    "out.force.AGSF.plot_2D_Data(\"time\",\"angle[10]\", is_auto_ticks=False, **dict_2D)\n",
    "out.force.AGSF.plot_2D_Data(\"freqs=[0,4000]\", is_auto_ticks=False, **dict_2D)\n",
    "#------------------------------------------------------"
   ]
  },
  {
   "cell_type": "markdown",
   "metadata": {},
   "source": [
    "The following plot displays the radial air-gap surface force over time and angle. "
   ]
  },
  {
   "cell_type": "code",
   "execution_count": null,
   "metadata": {},
   "outputs": [],
   "source": [
    "#------------------------------------------------------\n",
    "# Plot the tangential force as a function of time and space\n",
    "out.force.AGSF.plot_3D_Data(\"time\", \"angle{°}\", is_2D_view=True, **dict_3D)\n",
    "#------------------------------------------------------"
   ]
  },
  {
   "cell_type": "code",
   "execution_count": null,
   "metadata": {},
   "outputs": [],
   "source": []
  }
 ],
 "metadata": {
  "celltoolbar": "Format de la Cellule Texte Brut",
  "kernelspec": {
   "display_name": "Python 3",
   "language": "python",
   "name": "python3"
  },
  "language_info": {
   "codemirror_mode": {
    "name": "ipython",
    "version": 3
   },
   "file_extension": ".py",
   "mimetype": "text/x-python",
   "name": "python",
   "nbconvert_exporter": "python",
   "pygments_lexer": "ipython3",
   "version": "3.8.6"
  }
 },
 "nbformat": 4,
 "nbformat_minor": 4
}
