{
 "cells": [
  {
   "cell_type": "markdown",
   "metadata": {},
   "source": [
    "# Version information"
   ]
  },
  {
   "cell_type": "code",
   "execution_count": null,
   "metadata": {},
   "outputs": [],
   "source": [
    "from datetime import date\n",
    "print(\"Running date:\", date.today().strftime(\"%B %d, %Y\"))\n",
    "import pyleecan\n",
    "print(\"Pyleecan version:\" + pyleecan.__version__)\n",
    "import SciDataTool\n",
    "print(\"SciDataTool version:\" + SciDataTool.__version__)"
   ]
  },
  {
   "cell_type": "markdown",
   "metadata": {},
   "source": [
    "# How to compute currents, voltage and torque using the Electrical Module\n",
    "\n",
    "This tutorial explains how to use the Electrical Module to compute currents, voltage and torque, using a simple **electrical equivalent circuit**. The idea is to provide insight on how to implement other methods.\n",
    "\n",
    "The reference used to validate this tutorial is: Z. Yang, M. Krishnamurthy and I. P. Brown, \"Electromagnetic and vibrational characteristic of IPM over full torque-speed range,\" 2013 International Electric Machines & Drives Conference, Chicago, IL, 2013, pp. 295-302, doi: 10.1109/IEMDC.2013.6556267.\n",
    "\n",
    "## Machine and Simulation definition\n",
    "This tutorial use the machine IPMSM_A (Prius 2004) defined in the \"[How to define a machine](https://pyleecan.org/tuto_Machine.html)\" tutorial. The configuration is similar to the one used in the \"[How to set the Operating Point](https://pyleecan.org/tuto_Operating_point.html)\" tutorial."
   ]
  },
  {
   "cell_type": "code",
   "execution_count": null,
   "metadata": {},
   "outputs": [],
   "source": [
    "%matplotlib notebook\n",
    "\n",
    "# Load the machine\n",
    "from os.path import join\n",
    "from pyleecan.Functions.load import load\n",
    "from pyleecan.definitions import DATA_DIR\n",
    "\n",
    "Toyota_Prius = load(join(DATA_DIR, \"Machine\", \"Toyota_Prius.json\"))\n",
    "Toyota_Prius.plot()"
   ]
  },
  {
   "cell_type": "markdown",
   "metadata": {},
   "source": [
    "## Electrical Equivalent Circuit (EEC)\n",
    "The electrical module is defined with the object EEC_PMSM that correspond to the **electrical equivalent circuit** from \"Advanced Electrical Drives, analysis, modeling, control\", Rik de doncker, Duco W.J. Pulle, Andre Veltman, Springer edition, is then used for the computation of Ud/Uq or Id/Iq (see schematics hereafter). \n",
    "\n",
    "The parameters from the EEC are first computed according to the `FluxLinkFEMM` and `IndMagFEMM` objects. They enable to compute the flux linkage and the magnetic inductances using FEMM simulations (with symmetries and number of time steps). For the flux linkage computation, the currents are set to 0A.\n",
    "\n",
    "Once the parameter of the EEC known, the voltage can be computed. The electrical torque is then computed according to the formula: $T_{em}=\\frac{P-RI^2}{\\Omega}$, where $P$ is the magnetic power $P=\\frac{q_s}{2}\\Re(VI^*)$"
   ]
  },
  {
   "cell_type": "markdown",
   "metadata": {},
   "source": [
    "                 <---                               --->\n",
    "     -----R-----wsLqIq----              -----R-----wsLdId----\n",
    "    |                     |            |                     |\n",
    "    |                     |            |                    BEMF\n",
    "    |                     |            |                     |\n",
    "     ---------Id----------              ---------Iq----------\n",
    "             \n",
    "             --->                               ---> \n",
    "              Ud                                 Uq"
   ]
  },
  {
   "cell_type": "code",
   "execution_count": null,
   "metadata": {},
   "outputs": [],
   "source": [
    "from pyleecan.Classes.Simu1 import Simu1\n",
    "from pyleecan.Classes.Electrical import Electrical\n",
    "from pyleecan.Classes.EEC_PMSM import EEC_PMSM\n",
    "from pyleecan.Classes.FluxLinkFEMM import FluxLinkFEMM\n",
    "from pyleecan.Classes.IndMagFEMM import IndMagFEMM\n",
    "\n",
    "# Initialization of the Simulation\n",
    "simu = Simu1(name=\"tuto_elec\", machine=Toyota_Prius)\n",
    "\n",
    "# Definition of the magnetic simulation (FEMM with symmetry and sliding band)\n",
    "simu.elec = Electrical(\n",
    "    eec=EEC_PMSM(\n",
    "        indmag=IndMagFEMM(is_periodicity_a=True, Nt_tot=50),\n",
    "        fluxlink=FluxLinkFEMM(is_periodicity_a=True, Nt_tot=50),\n",
    "    )\n",
    ")\n",
    "# Run only Electrical module\n",
    "simu.mag = None\n",
    "simu.force = None\n",
    "simu.struct = None"
   ]
  },
  {
   "cell_type": "markdown",
   "metadata": {},
   "source": [
    "## Defining starting point with InputElec or InputCurrent\n",
    "\n",
    "The starting point of the simulation is defined with InputElec or InputCurrent. These objects will create an \"OutElec\" object and initialize it with the provided values for Id/Iq, and/or Ud/Uq with InputElec. InputCurrent enables to define in several ways the starting point (see \"[How to set the Operating Point](https://pyleecan.org/tuto_Machine.html)\").\n",
    "\n",
    "Note that Id/Iq are required to accurately compute the magnetic inductances, so that if only Ud/Uq is provided, a current Id=1A and Iq=1A will be used for the computation of Ld and Lq. A more satisfactory method would be to compute a map of Ld and Lq over Id/Iq. Future developments would be welcomed."
   ]
  },
  {
   "cell_type": "code",
   "execution_count": null,
   "metadata": {},
   "outputs": [],
   "source": [
    "from pyleecan.Classes.InputCurrent import InputCurrent\n",
    "from numpy import sqrt, exp, pi\n",
    "\n",
    "# Definition of a sinusoidal current\n",
    "simu.input = InputCurrent()\n",
    "\n",
    "I0_rms = 250/sqrt(2) # Maximum current [Arms]\n",
    "Phi0 = 140*pi/180  # Maximum Torque Per Amp\n",
    "\n",
    "Id_ref = (I0_rms*exp(1j*Phi0)).real\n",
    "Iq_ref = (I0_rms*exp(1j*Phi0)).imag\n",
    "\n",
    "simu.input.Id_ref = Id_ref # [Arms] \n",
    "simu.input.Iq_ref = Iq_ref # [Arms] \n",
    "\n",
    "simu.input.Nt_tot = 50 # Number of time steps\n",
    "simu.input.Na_tot = 2048 # Spatial discretization\n",
    "simu.input.N0 = 2000 # Rotor speed [rpm]\n",
    "\n",
    "(Id_ref,Iq_ref)"
   ]
  },
  {
   "cell_type": "markdown",
   "metadata": {},
   "source": [
    "## Running the simulation and postprocessings"
   ]
  },
  {
   "cell_type": "code",
   "execution_count": null,
   "metadata": {},
   "outputs": [],
   "source": [
    "out = simu.run()"
   ]
  },
  {
   "cell_type": "code",
   "execution_count": null,
   "metadata": {},
   "outputs": [],
   "source": [
    "# Print voltage and torque\n",
    "print(\"Ud: \"+str(out.elec.Ud_ref))\n",
    "print(\"Uq: \"+str(out.elec.Uq_ref))\n",
    "print(\"Tem: \"+str(out.elec.Tem_av_ref))"
   ]
  },
  {
   "cell_type": "code",
   "execution_count": null,
   "metadata": {},
   "outputs": [],
   "source": [
    "from pyleecan.Functions.Plot import dict_2D\n",
    "# Plot the currents\n",
    "out.elec.get_Is().plot_2D_Data(\"time\", \"phase\", **dict_2D)"
   ]
  },
  {
   "cell_type": "code",
   "execution_count": null,
   "metadata": {},
   "outputs": [],
   "source": [
    "# Plot the voltages\n",
    "out.elec.Us.plot_2D_Data(\"time\", \"phase\", **dict_2D)"
   ]
  },
  {
   "cell_type": "markdown",
   "metadata": {},
   "source": [
    "## Iterating on several Operating Points\n",
    "Reference torque and current angle vector are:"
   ]
  },
  {
   "cell_type": "code",
   "execution_count": null,
   "metadata": {},
   "outputs": [],
   "source": [
    "from numpy import linspace, array, pi\n",
    "Tem_av_ref = array([79, 125, 160, 192, 237, 281, 319, 343, 353, 332, 266, 164, 22]) # Yang et al, 2013\n",
    "Phi0_ref = linspace(60 * pi / 180, 180 * pi / 180, Tem_av_ref.size)\n",
    "N_simu = Tem_av_ref.size"
   ]
  },
  {
   "cell_type": "markdown",
   "metadata": {},
   "source": [
    "The multisimulation is similar to the one described in \"[How to set the Operating Point](https://pyleecan.org/tuto_Machine.html)\", except that we are now computing the electrical torque instead of the magnetic torque."
   ]
  },
  {
   "cell_type": "code",
   "execution_count": null,
   "metadata": {},
   "outputs": [],
   "source": [
    "from pyleecan.Classes.VarLoadCurrent import VarLoadCurrent\n",
    "from numpy import zeros, ones, linspace, array, sqrt, arange\n",
    "\n",
    "varload = VarLoadCurrent(is_torque=True)\n",
    "varload.type_OP_matrix = 0 # Matrix N0, I0, Phi0\n",
    "\n",
    "# Creating the Operating point matrix\n",
    "OP_matrix = zeros((N_simu,4))\n",
    "\n",
    "# Set N0 = 2000 [rpm] for all simulation\n",
    "OP_matrix[:,0] = 2000 * ones((N_simu))\n",
    "\n",
    "# Set I0 = 250 / sqrt(2) [A] (RMS) for all simulation\n",
    "OP_matrix[:,1] = I0_rms * ones((N_simu)) \n",
    "\n",
    "# Set Phi0 from 60° to 180°\n",
    "OP_matrix[:,2] = Phi0_ref\n",
    "\n",
    "# Set reference torque from Yang et al, 2013\n",
    "OP_matrix[:,3] = Tem_av_ref\n",
    "\n",
    "varload.OP_matrix = OP_matrix\n",
    "print(OP_matrix)"
   ]
  },
  {
   "cell_type": "code",
   "execution_count": null,
   "metadata": {},
   "outputs": [],
   "source": [
    "# Run multisimulation\n",
    "simu2 = simu.copy()\n",
    "simu2.var_simu = varload\n",
    "Xout = simu2.run()"
   ]
  },
  {
   "cell_type": "markdown",
   "metadata": {},
   "source": [
    "Once the simulation is done, the torque as a function of Phi0 can be plotted with:"
   ]
  },
  {
   "cell_type": "code",
   "execution_count": null,
   "metadata": {},
   "outputs": [],
   "source": [
    "# Plot torque as a function of Phi0\n",
    "from SciDataTool.Functions.Plot.plot_2D import plot_2D\n",
    "from numpy import array\n",
    "\n",
    "plot_2D(\n",
    "    array([x*180/pi for x in Xout.xoutput_dict[\"Phi0\"].result]),\n",
    "    [Xout.xoutput_dict[\"Tem_av_ref\"].result, Tem_av_ref],\n",
    "    legend_list=[\"Pyleecan\", \"Yang et al, 2013\"],\n",
    "    xlabel=\"Current angle [°]\",\n",
    "    ylabel=\"Electrical torque [N.m]\",\n",
    "    title=\"Electrical torque vs current angle\",\n",
    "    **dict_2D\n",
    ")"
   ]
  },
  {
   "cell_type": "code",
   "execution_count": null,
   "metadata": {},
   "outputs": [],
   "source": []
  }
 ],
 "metadata": {
  "kernelspec": {
   "display_name": "Python 3",
   "language": "python",
   "name": "python3"
  },
  "language_info": {
   "codemirror_mode": {
    "name": "ipython",
    "version": 3
   },
   "file_extension": ".py",
   "mimetype": "text/x-python",
   "name": "python",
   "nbconvert_exporter": "python",
   "pygments_lexer": "ipython3",
   "version": "3.8.6"
  }
 },
 "nbformat": 4,
 "nbformat_minor": 4
}
